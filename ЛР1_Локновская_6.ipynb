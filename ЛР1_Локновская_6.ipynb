{
  "cells": [
    {
      "cell_type": "markdown",
      "metadata": {
        "id": "bri_pAriNFqN"
      },
      "source": [
        "**Цель работы:**\n",
        "\n",
        "Осуществить предварительную обработку данных csv-файла, выявить и устранить проблемы в этих данных."
      ]
    },
    {
      "cell_type": "markdown",
      "metadata": {
        "id": "r_e-GeJmgZ8l"
      },
      "source": [
        "# Загрузка набора данных"
      ]
    },
    {
      "cell_type": "markdown",
      "metadata": {},
      "source": [
        "Был скачан файл .ipynb, содержащий подробное описание хода лабораторной работы. Он был переименован согласно требованиям. Далее в папку с блокнотом на компьютер был скачан датасет visits.csv. "
      ]
    },
    {
      "cell_type": "markdown",
      "metadata": {
        "id": "eeq9ZAbSguQS"
      },
      "source": [
        "### Описание предметной области"
      ]
    },
    {
      "cell_type": "markdown",
      "metadata": {
        "id": "XHbH8zNIg0Ib"
      },
      "source": [
        "Вариант №6\n",
        "\n",
        "Набор данных: visits.csv\n",
        "\n",
        "Атрибуты (Данные пользовательских сессий магазина):\n",
        "1. уникальный идентификатор пользователя \n",
        "2. страна пользователя \n",
        "3. устройство пользователя \n",
        "4. идентификатор рекламного источника, из которого пришел пользователь \n",
        "5. дата и время начала сессии \n",
        "6. дата и время окончания сессии\n"
      ]
    },
    {
      "cell_type": "markdown",
      "metadata": {
        "id": "Lwin9ia7hT1i"
      },
      "source": [
        "### 1.Чтение файла (набора данных)"
      ]
    },
    {
      "cell_type": "markdown",
      "metadata": {},
      "source": [
        "Для чтения файла была применена команда pd.read_csv с аргументом sep = ';', так как данные в датасете разделены с помощью знака “;”."
      ]
    },
    {
      "cell_type": "code",
      "execution_count": 2,
      "metadata": {
        "id": "a5dYQO5YhOYa"
      },
      "outputs": [
        {
          "data": {
            "text/html": [
              "<div>\n",
              "<style scoped>\n",
              "    .dataframe tbody tr th:only-of-type {\n",
              "        vertical-align: middle;\n",
              "    }\n",
              "\n",
              "    .dataframe tbody tr th {\n",
              "        vertical-align: top;\n",
              "    }\n",
              "\n",
              "    .dataframe thead th {\n",
              "        text-align: right;\n",
              "    }\n",
              "</style>\n",
              "<table border=\"1\" class=\"dataframe\">\n",
              "  <thead>\n",
              "    <tr style=\"text-align: right;\">\n",
              "      <th></th>\n",
              "      <th>User_Id</th>\n",
              "      <th>Region</th>\n",
              "      <th>Device</th>\n",
              "      <th>Channel</th>\n",
              "      <th>Session_Start</th>\n",
              "      <th>SESSION_End</th>\n",
              "    </tr>\n",
              "  </thead>\n",
              "  <tbody>\n",
              "    <tr>\n",
              "      <th>0</th>\n",
              "      <td>9,81449E+11</td>\n",
              "      <td>United States</td>\n",
              "      <td>iPhone</td>\n",
              "      <td>organic</td>\n",
              "      <td>01.05.2019 2:36</td>\n",
              "      <td>01.05.2019 2:45</td>\n",
              "    </tr>\n",
              "    <tr>\n",
              "      <th>1</th>\n",
              "      <td>2,78966E+11</td>\n",
              "      <td>United States</td>\n",
              "      <td>iPhone</td>\n",
              "      <td>organic</td>\n",
              "      <td>01.05.2019 4:46</td>\n",
              "      <td>01.05.2019 4:47</td>\n",
              "    </tr>\n",
              "    <tr>\n",
              "      <th>2</th>\n",
              "      <td>5,90706E+11</td>\n",
              "      <td>United States</td>\n",
              "      <td>Mac</td>\n",
              "      <td>organic</td>\n",
              "      <td>01.05.2019 14:09</td>\n",
              "      <td>01.05.2019 15:32</td>\n",
              "    </tr>\n",
              "    <tr>\n",
              "      <th>3</th>\n",
              "      <td>3,26434E+11</td>\n",
              "      <td>United States</td>\n",
              "      <td>Android</td>\n",
              "      <td>TipTop</td>\n",
              "      <td>01.05.2019 0:29</td>\n",
              "      <td>01.05.2019 0:54</td>\n",
              "    </tr>\n",
              "    <tr>\n",
              "      <th>4</th>\n",
              "      <td>3,49774E+11</td>\n",
              "      <td>United States</td>\n",
              "      <td>Mac</td>\n",
              "      <td>organic</td>\n",
              "      <td>01.05.2019 3:33</td>\n",
              "      <td>01.05.2019 3:57</td>\n",
              "    </tr>\n",
              "    <tr>\n",
              "      <th>...</th>\n",
              "      <td>...</td>\n",
              "      <td>...</td>\n",
              "      <td>...</td>\n",
              "      <td>...</td>\n",
              "      <td>...</td>\n",
              "      <td>...</td>\n",
              "    </tr>\n",
              "    <tr>\n",
              "      <th>952</th>\n",
              "      <td>5,55066E+11</td>\n",
              "      <td>United States</td>\n",
              "      <td>iPhone</td>\n",
              "      <td>TipTop</td>\n",
              "      <td>04.05.2019 23:32</td>\n",
              "      <td>04.05.2019 23:38</td>\n",
              "    </tr>\n",
              "    <tr>\n",
              "      <th>953</th>\n",
              "      <td>7,71716E+11</td>\n",
              "      <td>United States</td>\n",
              "      <td>Android</td>\n",
              "      <td>TipTop</td>\n",
              "      <td>04.05.2019 19:32</td>\n",
              "      <td>04.05.2019 19:48</td>\n",
              "    </tr>\n",
              "    <tr>\n",
              "      <th>954</th>\n",
              "      <td>74352279110</td>\n",
              "      <td>United States</td>\n",
              "      <td>iPhone</td>\n",
              "      <td>TipTop</td>\n",
              "      <td>04.05.2019 0:13</td>\n",
              "      <td>04.05.2019 0:26</td>\n",
              "    </tr>\n",
              "    <tr>\n",
              "      <th>955</th>\n",
              "      <td>6,08683E+11</td>\n",
              "      <td>United States</td>\n",
              "      <td>Android</td>\n",
              "      <td>FaceBoom</td>\n",
              "      <td>04.05.2019 3:33</td>\n",
              "      <td>04.05.2019 3:46</td>\n",
              "    </tr>\n",
              "    <tr>\n",
              "      <th>956</th>\n",
              "      <td>8,75326E+11</td>\n",
              "      <td>United States</td>\n",
              "      <td>Mac</td>\n",
              "      <td>organic</td>\n",
              "      <td>04.05.2019 3:01</td>\n",
              "      <td>04.05.2019 3:15</td>\n",
              "    </tr>\n",
              "  </tbody>\n",
              "</table>\n",
              "<p>957 rows × 6 columns</p>\n",
              "</div>"
            ],
            "text/plain": [
              "         User_Id         Region   Device   Channel     Session_Start  \\\n",
              "0    9,81449E+11  United States   iPhone   organic   01.05.2019 2:36   \n",
              "1    2,78966E+11  United States   iPhone   organic   01.05.2019 4:46   \n",
              "2    5,90706E+11  United States      Mac   organic  01.05.2019 14:09   \n",
              "3    3,26434E+11  United States  Android    TipTop   01.05.2019 0:29   \n",
              "4    3,49774E+11  United States      Mac   organic   01.05.2019 3:33   \n",
              "..           ...            ...      ...       ...               ...   \n",
              "952  5,55066E+11  United States   iPhone    TipTop  04.05.2019 23:32   \n",
              "953  7,71716E+11  United States  Android    TipTop  04.05.2019 19:32   \n",
              "954  74352279110  United States   iPhone    TipTop   04.05.2019 0:13   \n",
              "955  6,08683E+11  United States  Android  FaceBoom   04.05.2019 3:33   \n",
              "956  8,75326E+11  United States      Mac   organic   04.05.2019 3:01   \n",
              "\n",
              "          SESSION_End  \n",
              "0     01.05.2019 2:45  \n",
              "1     01.05.2019 4:47  \n",
              "2    01.05.2019 15:32  \n",
              "3     01.05.2019 0:54  \n",
              "4     01.05.2019 3:57  \n",
              "..                ...  \n",
              "952  04.05.2019 23:38  \n",
              "953  04.05.2019 19:48  \n",
              "954   04.05.2019 0:26  \n",
              "955   04.05.2019 3:46  \n",
              "956   04.05.2019 3:15  \n",
              "\n",
              "[957 rows x 6 columns]"
            ]
          },
          "execution_count": 2,
          "metadata": {},
          "output_type": "execute_result"
        }
      ],
      "source": [
        "# импорт библиотек, чтение файла с помощью pandas\n",
        "import pandas as pd\n",
        "df = pd.read_csv('visits.csv', sep = ';')\n",
        "df"
      ]
    },
    {
      "cell_type": "markdown",
      "metadata": {
        "id": "p82p53SvhjLN"
      },
      "source": [
        "### 2. Обзор данных"
      ]
    },
    {
      "cell_type": "markdown",
      "metadata": {
        "id": "eAYzXaLrh-qh"
      },
      "source": [
        "2.1 Вывод первых 20 строк с помощью метода head."
      ]
    },
    {
      "cell_type": "markdown",
      "metadata": {},
      "source": [
        "Для вывода первых 20 строк датафрейма был использован метод head."
      ]
    },
    {
      "cell_type": "code",
      "execution_count": 3,
      "metadata": {
        "id": "7yMo3VZ_hotx"
      },
      "outputs": [
        {
          "data": {
            "text/html": [
              "<div>\n",
              "<style scoped>\n",
              "    .dataframe tbody tr th:only-of-type {\n",
              "        vertical-align: middle;\n",
              "    }\n",
              "\n",
              "    .dataframe tbody tr th {\n",
              "        vertical-align: top;\n",
              "    }\n",
              "\n",
              "    .dataframe thead th {\n",
              "        text-align: right;\n",
              "    }\n",
              "</style>\n",
              "<table border=\"1\" class=\"dataframe\">\n",
              "  <thead>\n",
              "    <tr style=\"text-align: right;\">\n",
              "      <th></th>\n",
              "      <th>User_Id</th>\n",
              "      <th>Region</th>\n",
              "      <th>Device</th>\n",
              "      <th>Channel</th>\n",
              "      <th>Session_Start</th>\n",
              "      <th>SESSION_End</th>\n",
              "    </tr>\n",
              "  </thead>\n",
              "  <tbody>\n",
              "    <tr>\n",
              "      <th>0</th>\n",
              "      <td>9,81449E+11</td>\n",
              "      <td>United States</td>\n",
              "      <td>iPhone</td>\n",
              "      <td>organic</td>\n",
              "      <td>01.05.2019 2:36</td>\n",
              "      <td>01.05.2019 2:45</td>\n",
              "    </tr>\n",
              "    <tr>\n",
              "      <th>1</th>\n",
              "      <td>2,78966E+11</td>\n",
              "      <td>United States</td>\n",
              "      <td>iPhone</td>\n",
              "      <td>organic</td>\n",
              "      <td>01.05.2019 4:46</td>\n",
              "      <td>01.05.2019 4:47</td>\n",
              "    </tr>\n",
              "    <tr>\n",
              "      <th>2</th>\n",
              "      <td>5,90706E+11</td>\n",
              "      <td>United States</td>\n",
              "      <td>Mac</td>\n",
              "      <td>organic</td>\n",
              "      <td>01.05.2019 14:09</td>\n",
              "      <td>01.05.2019 15:32</td>\n",
              "    </tr>\n",
              "    <tr>\n",
              "      <th>3</th>\n",
              "      <td>3,26434E+11</td>\n",
              "      <td>United States</td>\n",
              "      <td>Android</td>\n",
              "      <td>TipTop</td>\n",
              "      <td>01.05.2019 0:29</td>\n",
              "      <td>01.05.2019 0:54</td>\n",
              "    </tr>\n",
              "    <tr>\n",
              "      <th>4</th>\n",
              "      <td>3,49774E+11</td>\n",
              "      <td>United States</td>\n",
              "      <td>Mac</td>\n",
              "      <td>organic</td>\n",
              "      <td>01.05.2019 3:33</td>\n",
              "      <td>01.05.2019 3:57</td>\n",
              "    </tr>\n",
              "    <tr>\n",
              "      <th>5</th>\n",
              "      <td>43958116050</td>\n",
              "      <td>United States</td>\n",
              "      <td>Android</td>\n",
              "      <td>organic</td>\n",
              "      <td>01.05.2019 9:03</td>\n",
              "      <td>01.05.2019 10:08</td>\n",
              "    </tr>\n",
              "    <tr>\n",
              "      <th>6</th>\n",
              "      <td>1,85365E+11</td>\n",
              "      <td>United States</td>\n",
              "      <td>iPhone</td>\n",
              "      <td>organic</td>\n",
              "      <td>01.05.2019 9:37</td>\n",
              "      <td>01.05.2019 10:00</td>\n",
              "    </tr>\n",
              "    <tr>\n",
              "      <th>7</th>\n",
              "      <td>1,00971E+11</td>\n",
              "      <td>United States</td>\n",
              "      <td>Mac</td>\n",
              "      <td>TipTop</td>\n",
              "      <td>01.05.2019 4:39</td>\n",
              "      <td>01.05.2019 4:57</td>\n",
              "    </tr>\n",
              "    <tr>\n",
              "      <th>8</th>\n",
              "      <td>3,70456E+11</td>\n",
              "      <td>United States</td>\n",
              "      <td>iPhone</td>\n",
              "      <td>organic</td>\n",
              "      <td>01.05.2019 14:44</td>\n",
              "      <td>01.05.2019 15:41</td>\n",
              "    </tr>\n",
              "    <tr>\n",
              "      <th>9</th>\n",
              "      <td>1,41838E+11</td>\n",
              "      <td>United States</td>\n",
              "      <td>Mac</td>\n",
              "      <td>FaceBoom</td>\n",
              "      <td>01.05.2019 6:20</td>\n",
              "      <td>01.05.2019 6:54</td>\n",
              "    </tr>\n",
              "    <tr>\n",
              "      <th>10</th>\n",
              "      <td>9,24309E+11</td>\n",
              "      <td>United States</td>\n",
              "      <td>iPhone</td>\n",
              "      <td>organic</td>\n",
              "      <td>01.05.2019 20:03</td>\n",
              "      <td>01.05.2019 20:19</td>\n",
              "    </tr>\n",
              "    <tr>\n",
              "      <th>11</th>\n",
              "      <td>7,74938E+11</td>\n",
              "      <td>United States</td>\n",
              "      <td>iPhone</td>\n",
              "      <td>MediaTornado</td>\n",
              "      <td>01.05.2019 14:01</td>\n",
              "      <td>01.05.2019 14:29</td>\n",
              "    </tr>\n",
              "    <tr>\n",
              "      <th>12</th>\n",
              "      <td>2,44879E+11</td>\n",
              "      <td>United States</td>\n",
              "      <td>iPhone</td>\n",
              "      <td>MediaTornado</td>\n",
              "      <td>01.05.2019 1:59</td>\n",
              "      <td>01.05.2019 2:21</td>\n",
              "    </tr>\n",
              "    <tr>\n",
              "      <th>13</th>\n",
              "      <td>1,57877E+11</td>\n",
              "      <td>United States</td>\n",
              "      <td>Mac</td>\n",
              "      <td>organic</td>\n",
              "      <td>01.05.2019 10:25</td>\n",
              "      <td>01.05.2019 10:35</td>\n",
              "    </tr>\n",
              "    <tr>\n",
              "      <th>14</th>\n",
              "      <td>5,24629E+11</td>\n",
              "      <td>United States</td>\n",
              "      <td>Mac</td>\n",
              "      <td>organic</td>\n",
              "      <td>01.05.2019 17:06</td>\n",
              "      <td>01.05.2019 18:05</td>\n",
              "    </tr>\n",
              "    <tr>\n",
              "      <th>15</th>\n",
              "      <td>1,36227E+11</td>\n",
              "      <td>United States</td>\n",
              "      <td>PC</td>\n",
              "      <td>organic</td>\n",
              "      <td>01.05.2019 19:34</td>\n",
              "      <td>01.05.2019 19:39</td>\n",
              "    </tr>\n",
              "    <tr>\n",
              "      <th>16</th>\n",
              "      <td>6,84979E+11</td>\n",
              "      <td>United States</td>\n",
              "      <td>iPhone</td>\n",
              "      <td>TipTop</td>\n",
              "      <td>01.05.2019 1:51</td>\n",
              "      <td>01.05.2019 2:12</td>\n",
              "    </tr>\n",
              "    <tr>\n",
              "      <th>17</th>\n",
              "      <td>9,05776E+11</td>\n",
              "      <td>United States</td>\n",
              "      <td>iPhone</td>\n",
              "      <td>organic</td>\n",
              "      <td>01.05.2019 14:26</td>\n",
              "      <td>01.05.2019 14:35</td>\n",
              "    </tr>\n",
              "    <tr>\n",
              "      <th>18</th>\n",
              "      <td>15174034813</td>\n",
              "      <td>United States</td>\n",
              "      <td>iPhone</td>\n",
              "      <td>FaceBoom</td>\n",
              "      <td>01.05.2019 15:34</td>\n",
              "      <td>01.05.2019 15:56</td>\n",
              "    </tr>\n",
              "    <tr>\n",
              "      <th>19</th>\n",
              "      <td>1,88246E+11</td>\n",
              "      <td>United States</td>\n",
              "      <td>Android</td>\n",
              "      <td>FaceBoom</td>\n",
              "      <td>01.05.2019 23:09</td>\n",
              "      <td>01.05.2019 23:21</td>\n",
              "    </tr>\n",
              "  </tbody>\n",
              "</table>\n",
              "</div>"
            ],
            "text/plain": [
              "        User_Id         Region   Device       Channel     Session_Start  \\\n",
              "0   9,81449E+11  United States   iPhone       organic   01.05.2019 2:36   \n",
              "1   2,78966E+11  United States   iPhone       organic   01.05.2019 4:46   \n",
              "2   5,90706E+11  United States      Mac       organic  01.05.2019 14:09   \n",
              "3   3,26434E+11  United States  Android        TipTop   01.05.2019 0:29   \n",
              "4   3,49774E+11  United States      Mac       organic   01.05.2019 3:33   \n",
              "5   43958116050  United States  Android       organic   01.05.2019 9:03   \n",
              "6   1,85365E+11  United States   iPhone       organic   01.05.2019 9:37   \n",
              "7   1,00971E+11  United States      Mac        TipTop   01.05.2019 4:39   \n",
              "8   3,70456E+11  United States   iPhone       organic  01.05.2019 14:44   \n",
              "9   1,41838E+11  United States      Mac      FaceBoom   01.05.2019 6:20   \n",
              "10  9,24309E+11  United States   iPhone       organic  01.05.2019 20:03   \n",
              "11  7,74938E+11  United States   iPhone  MediaTornado  01.05.2019 14:01   \n",
              "12  2,44879E+11  United States   iPhone  MediaTornado   01.05.2019 1:59   \n",
              "13  1,57877E+11  United States      Mac       organic  01.05.2019 10:25   \n",
              "14  5,24629E+11  United States      Mac       organic  01.05.2019 17:06   \n",
              "15  1,36227E+11  United States       PC       organic  01.05.2019 19:34   \n",
              "16  6,84979E+11  United States   iPhone        TipTop   01.05.2019 1:51   \n",
              "17  9,05776E+11  United States   iPhone       organic  01.05.2019 14:26   \n",
              "18  15174034813  United States   iPhone      FaceBoom  01.05.2019 15:34   \n",
              "19  1,88246E+11  United States  Android      FaceBoom  01.05.2019 23:09   \n",
              "\n",
              "         SESSION_End  \n",
              "0    01.05.2019 2:45  \n",
              "1    01.05.2019 4:47  \n",
              "2   01.05.2019 15:32  \n",
              "3    01.05.2019 0:54  \n",
              "4    01.05.2019 3:57  \n",
              "5   01.05.2019 10:08  \n",
              "6   01.05.2019 10:00  \n",
              "7    01.05.2019 4:57  \n",
              "8   01.05.2019 15:41  \n",
              "9    01.05.2019 6:54  \n",
              "10  01.05.2019 20:19  \n",
              "11  01.05.2019 14:29  \n",
              "12   01.05.2019 2:21  \n",
              "13  01.05.2019 10:35  \n",
              "14  01.05.2019 18:05  \n",
              "15  01.05.2019 19:39  \n",
              "16   01.05.2019 2:12  \n",
              "17  01.05.2019 14:35  \n",
              "18  01.05.2019 15:56  \n",
              "19  01.05.2019 23:21  "
            ]
          },
          "execution_count": 3,
          "metadata": {},
          "output_type": "execute_result"
        }
      ],
      "source": [
        "df.head(20)"
      ]
    },
    {
      "cell_type": "markdown",
      "metadata": {
        "id": "Ze-lXxLMhpWv"
      },
      "source": [
        "2.2 Оценка данных с помощью метода info."
      ]
    },
    {
      "cell_type": "markdown",
      "metadata": {},
      "source": [
        "Для оценки данных был использован метод info. Данный метод предоставляет общую информацию о таблице (названия столбцов, типы данных, хранящихся в них, количество ненулевых значений в каждом столбце). "
      ]
    },
    {
      "cell_type": "code",
      "execution_count": 4,
      "metadata": {
        "id": "bjhngmaLiGM-"
      },
      "outputs": [
        {
          "name": "stdout",
          "output_type": "stream",
          "text": [
            "<class 'pandas.core.frame.DataFrame'>\n",
            "RangeIndex: 957 entries, 0 to 956\n",
            "Data columns (total 6 columns):\n",
            " #   Column         Non-Null Count  Dtype \n",
            "---  ------         --------------  ----- \n",
            " 0   User_Id        957 non-null    object\n",
            " 1   Region         956 non-null    object\n",
            " 2   Device         955 non-null    object\n",
            " 3   Channel        957 non-null    object\n",
            " 4   Session_Start  955 non-null    object\n",
            " 5   SESSION_End    955 non-null    object\n",
            "dtypes: object(6)\n",
            "memory usage: 45.0+ KB\n"
          ]
        }
      ],
      "source": [
        "df.info()"
      ]
    },
    {
      "cell_type": "markdown",
      "metadata": {},
      "source": [
        "Метод показал, что в датафрейме содержится 6 столбцов строкового типа и 957 строк. Во всех столбцах, кроме User_Id и Channel имеются пропуски."
      ]
    },
    {
      "cell_type": "markdown",
      "metadata": {
        "id": "06PDq9DAiMAY"
      },
      "source": [
        "2.3 Оценка данных с помощью метода describe."
      ]
    },
    {
      "cell_type": "markdown",
      "metadata": {},
      "source": [
        "Для следующей оценки был применен метод describe. Метод используется для получения сводной статистики по данным. Для числовых данных он возвращает количество записей, среднее значение, стандартное отклонение, минимальное и максимальное значения и т.д. Для нечисловых данных - количество записей, количество уникальных значений, наиболее часто встречающееся значение (top) и его частоту (freq).  "
      ]
    },
    {
      "cell_type": "code",
      "execution_count": 5,
      "metadata": {
        "id": "cTVFwzO1jQfN"
      },
      "outputs": [
        {
          "data": {
            "text/html": [
              "<div>\n",
              "<style scoped>\n",
              "    .dataframe tbody tr th:only-of-type {\n",
              "        vertical-align: middle;\n",
              "    }\n",
              "\n",
              "    .dataframe tbody tr th {\n",
              "        vertical-align: top;\n",
              "    }\n",
              "\n",
              "    .dataframe thead th {\n",
              "        text-align: right;\n",
              "    }\n",
              "</style>\n",
              "<table border=\"1\" class=\"dataframe\">\n",
              "  <thead>\n",
              "    <tr style=\"text-align: right;\">\n",
              "      <th></th>\n",
              "      <th>User_Id</th>\n",
              "      <th>Region</th>\n",
              "      <th>Device</th>\n",
              "      <th>Channel</th>\n",
              "      <th>Session_Start</th>\n",
              "      <th>SESSION_End</th>\n",
              "    </tr>\n",
              "  </thead>\n",
              "  <tbody>\n",
              "    <tr>\n",
              "      <th>count</th>\n",
              "      <td>957</td>\n",
              "      <td>956</td>\n",
              "      <td>955</td>\n",
              "      <td>957</td>\n",
              "      <td>955</td>\n",
              "      <td>955</td>\n",
              "    </tr>\n",
              "    <tr>\n",
              "      <th>unique</th>\n",
              "      <td>865</td>\n",
              "      <td>2</td>\n",
              "      <td>6</td>\n",
              "      <td>4</td>\n",
              "      <td>820</td>\n",
              "      <td>836</td>\n",
              "    </tr>\n",
              "    <tr>\n",
              "      <th>top</th>\n",
              "      <td>1,79085E+11</td>\n",
              "      <td>United States</td>\n",
              "      <td>iPhone</td>\n",
              "      <td>organic</td>\n",
              "      <td>02.05.2019 20:16</td>\n",
              "      <td>02.05.2019 22:48</td>\n",
              "    </tr>\n",
              "    <tr>\n",
              "      <th>freq</th>\n",
              "      <td>4</td>\n",
              "      <td>955</td>\n",
              "      <td>421</td>\n",
              "      <td>612</td>\n",
              "      <td>4</td>\n",
              "      <td>3</td>\n",
              "    </tr>\n",
              "  </tbody>\n",
              "</table>\n",
              "</div>"
            ],
            "text/plain": [
              "            User_Id         Region  Device  Channel     Session_Start  \\\n",
              "count           957            956     955      957               955   \n",
              "unique          865              2       6        4               820   \n",
              "top     1,79085E+11  United States  iPhone  organic  02.05.2019 20:16   \n",
              "freq              4            955     421      612                 4   \n",
              "\n",
              "             SESSION_End  \n",
              "count                955  \n",
              "unique               836  \n",
              "top     02.05.2019 22:48  \n",
              "freq                   3  "
            ]
          },
          "execution_count": 5,
          "metadata": {},
          "output_type": "execute_result"
        }
      ],
      "source": [
        "df.describe()"
      ]
    },
    {
      "cell_type": "markdown",
      "metadata": {
        "id": "oOZUrZGuiGqc"
      },
      "source": [
        "Анализируя описанные метрики, можно сказать, что в датасете содержится информация о 865 уникальных пользователях из США, большая часть которых использует iPhone и приходит из рекламного источника organic.\n"
      ]
    },
    {
      "cell_type": "markdown",
      "metadata": {
        "id": "JTbo0IGDiHxn"
      },
      "source": [
        " 2.4 Оценка названий столбцов"
      ]
    },
    {
      "cell_type": "markdown",
      "metadata": {},
      "source": [
        "Следующим шагом была проведена оценка названий столбцов. "
      ]
    },
    {
      "cell_type": "code",
      "execution_count": 6,
      "metadata": {
        "id": "9NEyi2Odik3e"
      },
      "outputs": [
        {
          "data": {
            "text/plain": [
              "Index(['User_Id', 'Region', 'Device', 'Channel', 'Session_Start',\n",
              "       'SESSION_End'],\n",
              "      dtype='object')"
            ]
          },
          "execution_count": 6,
          "metadata": {},
          "output_type": "execute_result"
        }
      ],
      "source": [
        "df.columns"
      ]
    },
    {
      "cell_type": "markdown",
      "metadata": {},
      "source": [
        "Названия выглядят разношерстно, требуется корректировка – приведение всех названий к нижнему регистру."
      ]
    },
    {
      "cell_type": "code",
      "execution_count": 7,
      "metadata": {
        "id": "QSJBLl4qjjP8"
      },
      "outputs": [
        {
          "data": {
            "text/html": [
              "<div>\n",
              "<style scoped>\n",
              "    .dataframe tbody tr th:only-of-type {\n",
              "        vertical-align: middle;\n",
              "    }\n",
              "\n",
              "    .dataframe tbody tr th {\n",
              "        vertical-align: top;\n",
              "    }\n",
              "\n",
              "    .dataframe thead th {\n",
              "        text-align: right;\n",
              "    }\n",
              "</style>\n",
              "<table border=\"1\" class=\"dataframe\">\n",
              "  <thead>\n",
              "    <tr style=\"text-align: right;\">\n",
              "      <th></th>\n",
              "      <th>user_id</th>\n",
              "      <th>region</th>\n",
              "      <th>device</th>\n",
              "      <th>channel</th>\n",
              "      <th>session_start</th>\n",
              "      <th>session_end</th>\n",
              "    </tr>\n",
              "  </thead>\n",
              "  <tbody>\n",
              "    <tr>\n",
              "      <th>0</th>\n",
              "      <td>9,81449E+11</td>\n",
              "      <td>United States</td>\n",
              "      <td>iPhone</td>\n",
              "      <td>organic</td>\n",
              "      <td>01.05.2019 2:36</td>\n",
              "      <td>01.05.2019 2:45</td>\n",
              "    </tr>\n",
              "    <tr>\n",
              "      <th>1</th>\n",
              "      <td>2,78966E+11</td>\n",
              "      <td>United States</td>\n",
              "      <td>iPhone</td>\n",
              "      <td>organic</td>\n",
              "      <td>01.05.2019 4:46</td>\n",
              "      <td>01.05.2019 4:47</td>\n",
              "    </tr>\n",
              "    <tr>\n",
              "      <th>2</th>\n",
              "      <td>5,90706E+11</td>\n",
              "      <td>United States</td>\n",
              "      <td>Mac</td>\n",
              "      <td>organic</td>\n",
              "      <td>01.05.2019 14:09</td>\n",
              "      <td>01.05.2019 15:32</td>\n",
              "    </tr>\n",
              "    <tr>\n",
              "      <th>3</th>\n",
              "      <td>3,26434E+11</td>\n",
              "      <td>United States</td>\n",
              "      <td>Android</td>\n",
              "      <td>TipTop</td>\n",
              "      <td>01.05.2019 0:29</td>\n",
              "      <td>01.05.2019 0:54</td>\n",
              "    </tr>\n",
              "    <tr>\n",
              "      <th>4</th>\n",
              "      <td>3,49774E+11</td>\n",
              "      <td>United States</td>\n",
              "      <td>Mac</td>\n",
              "      <td>organic</td>\n",
              "      <td>01.05.2019 3:33</td>\n",
              "      <td>01.05.2019 3:57</td>\n",
              "    </tr>\n",
              "    <tr>\n",
              "      <th>...</th>\n",
              "      <td>...</td>\n",
              "      <td>...</td>\n",
              "      <td>...</td>\n",
              "      <td>...</td>\n",
              "      <td>...</td>\n",
              "      <td>...</td>\n",
              "    </tr>\n",
              "    <tr>\n",
              "      <th>952</th>\n",
              "      <td>5,55066E+11</td>\n",
              "      <td>United States</td>\n",
              "      <td>iPhone</td>\n",
              "      <td>TipTop</td>\n",
              "      <td>04.05.2019 23:32</td>\n",
              "      <td>04.05.2019 23:38</td>\n",
              "    </tr>\n",
              "    <tr>\n",
              "      <th>953</th>\n",
              "      <td>7,71716E+11</td>\n",
              "      <td>United States</td>\n",
              "      <td>Android</td>\n",
              "      <td>TipTop</td>\n",
              "      <td>04.05.2019 19:32</td>\n",
              "      <td>04.05.2019 19:48</td>\n",
              "    </tr>\n",
              "    <tr>\n",
              "      <th>954</th>\n",
              "      <td>74352279110</td>\n",
              "      <td>United States</td>\n",
              "      <td>iPhone</td>\n",
              "      <td>TipTop</td>\n",
              "      <td>04.05.2019 0:13</td>\n",
              "      <td>04.05.2019 0:26</td>\n",
              "    </tr>\n",
              "    <tr>\n",
              "      <th>955</th>\n",
              "      <td>6,08683E+11</td>\n",
              "      <td>United States</td>\n",
              "      <td>Android</td>\n",
              "      <td>FaceBoom</td>\n",
              "      <td>04.05.2019 3:33</td>\n",
              "      <td>04.05.2019 3:46</td>\n",
              "    </tr>\n",
              "    <tr>\n",
              "      <th>956</th>\n",
              "      <td>8,75326E+11</td>\n",
              "      <td>United States</td>\n",
              "      <td>Mac</td>\n",
              "      <td>organic</td>\n",
              "      <td>04.05.2019 3:01</td>\n",
              "      <td>04.05.2019 3:15</td>\n",
              "    </tr>\n",
              "  </tbody>\n",
              "</table>\n",
              "<p>957 rows × 6 columns</p>\n",
              "</div>"
            ],
            "text/plain": [
              "         user_id         region   device   channel     session_start  \\\n",
              "0    9,81449E+11  United States   iPhone   organic   01.05.2019 2:36   \n",
              "1    2,78966E+11  United States   iPhone   organic   01.05.2019 4:46   \n",
              "2    5,90706E+11  United States      Mac   organic  01.05.2019 14:09   \n",
              "3    3,26434E+11  United States  Android    TipTop   01.05.2019 0:29   \n",
              "4    3,49774E+11  United States      Mac   organic   01.05.2019 3:33   \n",
              "..           ...            ...      ...       ...               ...   \n",
              "952  5,55066E+11  United States   iPhone    TipTop  04.05.2019 23:32   \n",
              "953  7,71716E+11  United States  Android    TipTop  04.05.2019 19:32   \n",
              "954  74352279110  United States   iPhone    TipTop   04.05.2019 0:13   \n",
              "955  6,08683E+11  United States  Android  FaceBoom   04.05.2019 3:33   \n",
              "956  8,75326E+11  United States      Mac   organic   04.05.2019 3:01   \n",
              "\n",
              "          session_end  \n",
              "0     01.05.2019 2:45  \n",
              "1     01.05.2019 4:47  \n",
              "2    01.05.2019 15:32  \n",
              "3     01.05.2019 0:54  \n",
              "4     01.05.2019 3:57  \n",
              "..                ...  \n",
              "952  04.05.2019 23:38  \n",
              "953  04.05.2019 19:48  \n",
              "954   04.05.2019 0:26  \n",
              "955   04.05.2019 3:46  \n",
              "956   04.05.2019 3:15  \n",
              "\n",
              "[957 rows x 6 columns]"
            ]
          },
          "execution_count": 7,
          "metadata": {},
          "output_type": "execute_result"
        }
      ],
      "source": [
        "# приведение всех названий к нижнему регистру\n",
        "df.columns = df.columns.str.lower()\n",
        "df"
      ]
    },
    {
      "cell_type": "markdown",
      "metadata": {
        "id": "V0tLQcyrjnA_"
      },
      "source": [
        "### 3. Проверка пропусков"
      ]
    },
    {
      "cell_type": "markdown",
      "metadata": {},
      "source": [
        "С помощью команд isna и sum был проведен подсчет количества пропусков."
      ]
    },
    {
      "cell_type": "code",
      "execution_count": 8,
      "metadata": {
        "id": "xuTz-Avjj9AW"
      },
      "outputs": [
        {
          "data": {
            "text/plain": [
              "user_id          0\n",
              "region           1\n",
              "device           2\n",
              "channel          0\n",
              "session_start    2\n",
              "session_end      2\n",
              "dtype: int64"
            ]
          },
          "execution_count": 8,
          "metadata": {},
          "output_type": "execute_result"
        }
      ],
      "source": [
        "df.isna().sum()"
      ]
    },
    {
      "cell_type": "markdown",
      "metadata": {},
      "source": [
        "В ячейках содержатся пропуски, значение которых проблематично заменять средним. Кроме того, доля пропусков относительно общего объёма данных достаточно мала. Поэтому было принято решение удалить строки с отсутствующими значениями. Удаление было совершено с помощью команды dropna. Обновление индексации будет сделано во время работы с дубликатами."
      ]
    },
    {
      "cell_type": "code",
      "execution_count": 9,
      "metadata": {},
      "outputs": [
        {
          "name": "stdout",
          "output_type": "stream",
          "text": [
            "<class 'pandas.core.frame.DataFrame'>\n",
            "Index: 954 entries, 0 to 956\n",
            "Data columns (total 6 columns):\n",
            " #   Column         Non-Null Count  Dtype \n",
            "---  ------         --------------  ----- \n",
            " 0   user_id        954 non-null    object\n",
            " 1   region         954 non-null    object\n",
            " 2   device         954 non-null    object\n",
            " 3   channel        954 non-null    object\n",
            " 4   session_start  954 non-null    object\n",
            " 5   session_end    954 non-null    object\n",
            "dtypes: object(6)\n",
            "memory usage: 52.2+ KB\n"
          ]
        }
      ],
      "source": [
        "df = df.dropna(subset=['region', 'device', 'session_start'])\n",
        "df.info()"
      ]
    },
    {
      "cell_type": "markdown",
      "metadata": {
        "id": "efZ7vgSVkPQH"
      },
      "source": [
        "По итогу работы с пропусками осталось 954 строки из 957, полностью заполненных данными."
      ]
    },
    {
      "cell_type": "markdown",
      "metadata": {
        "id": "kkyrXXHikEXk"
      },
      "source": [
        "### 4. Проверка дубликатов"
      ]
    },
    {
      "cell_type": "markdown",
      "metadata": {
        "id": "ImqHvr3okIQ6"
      },
      "source": [
        "#### Проверка явных дубликатов"
      ]
    },
    {
      "cell_type": "markdown",
      "metadata": {},
      "source": [
        "В первую очередь была проведена проверка на явные дубликаты – те строки, которые полностью повторяют уже встречавшиеся в датасете."
      ]
    },
    {
      "cell_type": "code",
      "execution_count": 10,
      "metadata": {
        "id": "qu1oh-e5lDZ1"
      },
      "outputs": [
        {
          "data": {
            "text/html": [
              "<div>\n",
              "<style scoped>\n",
              "    .dataframe tbody tr th:only-of-type {\n",
              "        vertical-align: middle;\n",
              "    }\n",
              "\n",
              "    .dataframe tbody tr th {\n",
              "        vertical-align: top;\n",
              "    }\n",
              "\n",
              "    .dataframe thead th {\n",
              "        text-align: right;\n",
              "    }\n",
              "</style>\n",
              "<table border=\"1\" class=\"dataframe\">\n",
              "  <thead>\n",
              "    <tr style=\"text-align: right;\">\n",
              "      <th></th>\n",
              "      <th>user_id</th>\n",
              "      <th>region</th>\n",
              "      <th>device</th>\n",
              "      <th>channel</th>\n",
              "      <th>session_start</th>\n",
              "      <th>session_end</th>\n",
              "    </tr>\n",
              "  </thead>\n",
              "  <tbody>\n",
              "    <tr>\n",
              "      <th>480</th>\n",
              "      <td>1,79085E+11</td>\n",
              "      <td>United States</td>\n",
              "      <td>Mac</td>\n",
              "      <td>organic</td>\n",
              "      <td>01.05.2019 7:27</td>\n",
              "      <td>01.05.2019 7:49</td>\n",
              "    </tr>\n",
              "    <tr>\n",
              "      <th>481</th>\n",
              "      <td>1,79085E+11</td>\n",
              "      <td>United States</td>\n",
              "      <td>Mac</td>\n",
              "      <td>organic</td>\n",
              "      <td>01.05.2019 7:27</td>\n",
              "      <td>01.05.2019 7:49</td>\n",
              "    </tr>\n",
              "  </tbody>\n",
              "</table>\n",
              "</div>"
            ],
            "text/plain": [
              "         user_id         region device  channel    session_start  \\\n",
              "480  1,79085E+11  United States    Mac  organic  01.05.2019 7:27   \n",
              "481  1,79085E+11  United States    Mac  organic  01.05.2019 7:27   \n",
              "\n",
              "         session_end  \n",
              "480  01.05.2019 7:49  \n",
              "481  01.05.2019 7:49  "
            ]
          },
          "execution_count": 10,
          "metadata": {},
          "output_type": "execute_result"
        }
      ],
      "source": [
        "df[df.duplicated()]"
      ]
    },
    {
      "cell_type": "markdown",
      "metadata": {},
      "source": [
        "Было обнаружено 2 явных дубликата. Их необходимо удалить и обновить индексацию после проделанных манипуляций."
      ]
    },
    {
      "cell_type": "code",
      "execution_count": 11,
      "metadata": {
        "id": "ntArgvChkK26"
      },
      "outputs": [
        {
          "name": "stdout",
          "output_type": "stream",
          "text": [
            "<class 'pandas.core.frame.DataFrame'>\n",
            "RangeIndex: 952 entries, 0 to 951\n",
            "Data columns (total 6 columns):\n",
            " #   Column         Non-Null Count  Dtype \n",
            "---  ------         --------------  ----- \n",
            " 0   user_id        952 non-null    object\n",
            " 1   region         952 non-null    object\n",
            " 2   device         952 non-null    object\n",
            " 3   channel        952 non-null    object\n",
            " 4   session_start  952 non-null    object\n",
            " 5   session_end    952 non-null    object\n",
            "dtypes: object(6)\n",
            "memory usage: 44.8+ KB\n"
          ]
        }
      ],
      "source": [
        "df = df.drop_duplicates().reset_index(drop=True)\n",
        "df.info()"
      ]
    },
    {
      "cell_type": "markdown",
      "metadata": {
        "id": "VeHTMcOmkLSw"
      },
      "source": [
        "#### Проверка неявных дубликатов"
      ]
    },
    {
      "cell_type": "markdown",
      "metadata": {},
      "source": [
        "Следующий шаг – проверка на неявные дубликаты - альтернативные написания одного и того же значения (или ошибочное написание слов). Для этого с помощью метода value_counts выводятся все уникальные значения, содержащиеся в столбце."
      ]
    },
    {
      "cell_type": "code",
      "execution_count": 12,
      "metadata": {
        "id": "-uOPKHlVlGo8"
      },
      "outputs": [
        {
          "data": {
            "text/plain": [
              "channel\n",
              "organic         608\n",
              "FaceBoom        149\n",
              "TipTop          142\n",
              "MediaTornado     53\n",
              "Name: count, dtype: int64"
            ]
          },
          "execution_count": 12,
          "metadata": {},
          "output_type": "execute_result"
        }
      ],
      "source": [
        "df['channel'].value_counts()"
      ]
    },
    {
      "cell_type": "markdown",
      "metadata": {},
      "source": [
        "В столбце channel не выявлено дубликатов."
      ]
    },
    {
      "cell_type": "code",
      "execution_count": 13,
      "metadata": {},
      "outputs": [
        {
          "data": {
            "text/plain": [
              "device\n",
              "iPhone     420\n",
              "Mac        241\n",
              "Android    185\n",
              "PC         103\n",
              "IPHONE       2\n",
              "MAC          1\n",
              "Name: count, dtype: int64"
            ]
          },
          "execution_count": 13,
          "metadata": {},
          "output_type": "execute_result"
        }
      ],
      "source": [
        "df['device'].value_counts()"
      ]
    },
    {
      "cell_type": "markdown",
      "metadata": {},
      "source": [
        "В столбце device найдены дубликаты IPHONE и MAC, которые необходимо заменить"
      ]
    },
    {
      "cell_type": "code",
      "execution_count": 14,
      "metadata": {
        "id": "89tMFEQ2k_M7"
      },
      "outputs": [
        {
          "data": {
            "text/plain": [
              "device\n",
              "iphone     422\n",
              "mac        242\n",
              "android    185\n",
              "pc         103\n",
              "Name: count, dtype: int64"
            ]
          },
          "execution_count": 14,
          "metadata": {},
          "output_type": "execute_result"
        }
      ],
      "source": [
        "df['device'] = df['device'].str.lower()\n",
        "df['device'].value_counts()"
      ]
    },
    {
      "cell_type": "markdown",
      "metadata": {},
      "source": [
        "Все значения столбца были приведены к нижнему регистру, дубликаты исчезли."
      ]
    },
    {
      "cell_type": "code",
      "execution_count": 15,
      "metadata": {},
      "outputs": [
        {
          "data": {
            "text/plain": [
              "region\n",
              "United States    951\n",
              "USA                1\n",
              "Name: count, dtype: int64"
            ]
          },
          "execution_count": 15,
          "metadata": {},
          "output_type": "execute_result"
        }
      ],
      "source": [
        "df['region'].value_counts()"
      ]
    },
    {
      "cell_type": "markdown",
      "metadata": {},
      "source": [
        "В столбце region было найдено значение USA, по смыслу равное Unined States. Значение USA было заменено с помощью команды replace."
      ]
    },
    {
      "cell_type": "code",
      "execution_count": 16,
      "metadata": {},
      "outputs": [
        {
          "data": {
            "text/plain": [
              "region\n",
              "United States    952\n",
              "Name: count, dtype: int64"
            ]
          },
          "execution_count": 16,
          "metadata": {},
          "output_type": "execute_result"
        }
      ],
      "source": [
        "df['region'] = df['region'].replace('USA', 'United States')\n",
        "df['region'].value_counts()"
      ]
    },
    {
      "cell_type": "markdown",
      "metadata": {},
      "source": [
        "Столбцы user_id, session_start, session_end не нуждаются в проверке на неявные дубликаты, так как первый является непрерывным, а следующие – могут содержать повторы в силу анализа в рамках короткого временного промежутка (1 – 4 мая 2019 года)."
      ]
    },
    {
      "cell_type": "markdown",
      "metadata": {
        "id": "GMcnDpOmlKhU"
      },
      "source": [
        "\n",
        "\n",
        "\n",
        "По итогам осталось 952 строки без явных и неявных дубликатов.\n"
      ]
    },
    {
      "cell_type": "markdown",
      "metadata": {
        "id": "md9GhfYMlbi7"
      },
      "source": [
        "### 5. Провека типов данных"
      ]
    },
    {
      "cell_type": "markdown",
      "metadata": {},
      "source": [
        "Атрибут dtypes выводит типы значений в столбцах."
      ]
    },
    {
      "cell_type": "code",
      "execution_count": 17,
      "metadata": {
        "id": "lXTroENaluCW"
      },
      "outputs": [
        {
          "data": {
            "text/plain": [
              "user_id          object\n",
              "region           object\n",
              "device           object\n",
              "channel          object\n",
              "session_start    object\n",
              "session_end      object\n",
              "dtype: object"
            ]
          },
          "execution_count": 17,
          "metadata": {},
          "output_type": "execute_result"
        }
      ],
      "source": [
        "df.dtypes"
      ]
    },
    {
      "cell_type": "markdown",
      "metadata": {},
      "source": [
        "Все столбцы имеют строковый тип данных, что не совсем корректно. Поле iser_id должно быть целочисленным. Поля session_start и session_end - datetime.\n",
        "\n",
        "Помимо этого, id записан в экпоненциальной форме, необходимо скорректировать значения идентификатора."
      ]
    },
    {
      "cell_type": "code",
      "execution_count": 18,
      "metadata": {
        "id": "WXhXgu29lop3"
      },
      "outputs": [
        {
          "data": {
            "text/html": [
              "<div>\n",
              "<style scoped>\n",
              "    .dataframe tbody tr th:only-of-type {\n",
              "        vertical-align: middle;\n",
              "    }\n",
              "\n",
              "    .dataframe tbody tr th {\n",
              "        vertical-align: top;\n",
              "    }\n",
              "\n",
              "    .dataframe thead th {\n",
              "        text-align: right;\n",
              "    }\n",
              "</style>\n",
              "<table border=\"1\" class=\"dataframe\">\n",
              "  <thead>\n",
              "    <tr style=\"text-align: right;\">\n",
              "      <th></th>\n",
              "      <th>user_id</th>\n",
              "      <th>region</th>\n",
              "      <th>device</th>\n",
              "      <th>channel</th>\n",
              "      <th>session_start</th>\n",
              "      <th>session_end</th>\n",
              "    </tr>\n",
              "  </thead>\n",
              "  <tbody>\n",
              "    <tr>\n",
              "      <th>0</th>\n",
              "      <td>981449000000</td>\n",
              "      <td>United States</td>\n",
              "      <td>iphone</td>\n",
              "      <td>organic</td>\n",
              "      <td>01.05.2019 2:36</td>\n",
              "      <td>01.05.2019 2:45</td>\n",
              "    </tr>\n",
              "    <tr>\n",
              "      <th>1</th>\n",
              "      <td>278966000000</td>\n",
              "      <td>United States</td>\n",
              "      <td>iphone</td>\n",
              "      <td>organic</td>\n",
              "      <td>01.05.2019 4:46</td>\n",
              "      <td>01.05.2019 4:47</td>\n",
              "    </tr>\n",
              "    <tr>\n",
              "      <th>2</th>\n",
              "      <td>590706000000</td>\n",
              "      <td>United States</td>\n",
              "      <td>mac</td>\n",
              "      <td>organic</td>\n",
              "      <td>01.05.2019 14:09</td>\n",
              "      <td>01.05.2019 15:32</td>\n",
              "    </tr>\n",
              "    <tr>\n",
              "      <th>3</th>\n",
              "      <td>326434000000</td>\n",
              "      <td>United States</td>\n",
              "      <td>android</td>\n",
              "      <td>TipTop</td>\n",
              "      <td>01.05.2019 0:29</td>\n",
              "      <td>01.05.2019 0:54</td>\n",
              "    </tr>\n",
              "    <tr>\n",
              "      <th>4</th>\n",
              "      <td>349774000000</td>\n",
              "      <td>United States</td>\n",
              "      <td>mac</td>\n",
              "      <td>organic</td>\n",
              "      <td>01.05.2019 3:33</td>\n",
              "      <td>01.05.2019 3:57</td>\n",
              "    </tr>\n",
              "    <tr>\n",
              "      <th>...</th>\n",
              "      <td>...</td>\n",
              "      <td>...</td>\n",
              "      <td>...</td>\n",
              "      <td>...</td>\n",
              "      <td>...</td>\n",
              "      <td>...</td>\n",
              "    </tr>\n",
              "    <tr>\n",
              "      <th>947</th>\n",
              "      <td>555066000000</td>\n",
              "      <td>United States</td>\n",
              "      <td>iphone</td>\n",
              "      <td>TipTop</td>\n",
              "      <td>04.05.2019 23:32</td>\n",
              "      <td>04.05.2019 23:38</td>\n",
              "    </tr>\n",
              "    <tr>\n",
              "      <th>948</th>\n",
              "      <td>771716000000</td>\n",
              "      <td>United States</td>\n",
              "      <td>android</td>\n",
              "      <td>TipTop</td>\n",
              "      <td>04.05.2019 19:32</td>\n",
              "      <td>04.05.2019 19:48</td>\n",
              "    </tr>\n",
              "    <tr>\n",
              "      <th>949</th>\n",
              "      <td>74352279110</td>\n",
              "      <td>United States</td>\n",
              "      <td>iphone</td>\n",
              "      <td>TipTop</td>\n",
              "      <td>04.05.2019 0:13</td>\n",
              "      <td>04.05.2019 0:26</td>\n",
              "    </tr>\n",
              "    <tr>\n",
              "      <th>950</th>\n",
              "      <td>608683000000</td>\n",
              "      <td>United States</td>\n",
              "      <td>android</td>\n",
              "      <td>FaceBoom</td>\n",
              "      <td>04.05.2019 3:33</td>\n",
              "      <td>04.05.2019 3:46</td>\n",
              "    </tr>\n",
              "    <tr>\n",
              "      <th>951</th>\n",
              "      <td>875326000000</td>\n",
              "      <td>United States</td>\n",
              "      <td>mac</td>\n",
              "      <td>organic</td>\n",
              "      <td>04.05.2019 3:01</td>\n",
              "      <td>04.05.2019 3:15</td>\n",
              "    </tr>\n",
              "  </tbody>\n",
              "</table>\n",
              "<p>952 rows × 6 columns</p>\n",
              "</div>"
            ],
            "text/plain": [
              "          user_id         region   device   channel     session_start  \\\n",
              "0    981449000000  United States   iphone   organic   01.05.2019 2:36   \n",
              "1    278966000000  United States   iphone   organic   01.05.2019 4:46   \n",
              "2    590706000000  United States      mac   organic  01.05.2019 14:09   \n",
              "3    326434000000  United States  android    TipTop   01.05.2019 0:29   \n",
              "4    349774000000  United States      mac   organic   01.05.2019 3:33   \n",
              "..            ...            ...      ...       ...               ...   \n",
              "947  555066000000  United States   iphone    TipTop  04.05.2019 23:32   \n",
              "948  771716000000  United States  android    TipTop  04.05.2019 19:32   \n",
              "949   74352279110  United States   iphone    TipTop   04.05.2019 0:13   \n",
              "950  608683000000  United States  android  FaceBoom   04.05.2019 3:33   \n",
              "951  875326000000  United States      mac   organic   04.05.2019 3:01   \n",
              "\n",
              "          session_end  \n",
              "0     01.05.2019 2:45  \n",
              "1     01.05.2019 4:47  \n",
              "2    01.05.2019 15:32  \n",
              "3     01.05.2019 0:54  \n",
              "4     01.05.2019 3:57  \n",
              "..                ...  \n",
              "947  04.05.2019 23:38  \n",
              "948  04.05.2019 19:48  \n",
              "949   04.05.2019 0:26  \n",
              "950   04.05.2019 3:46  \n",
              "951   04.05.2019 3:15  \n",
              "\n",
              "[952 rows x 6 columns]"
            ]
          },
          "execution_count": 18,
          "metadata": {},
          "output_type": "execute_result"
        }
      ],
      "source": [
        "df['user_id'] = df['user_id'].str.replace(\",\", \".\")\n",
        "df['user_id'] = df['user_id'].astype(float).astype(int)\n",
        "df"
      ]
    },
    {
      "cell_type": "markdown",
      "metadata": {},
      "source": [
        "Для изменения типа данных из строкового в datetime используется функция pd.to_datetime."
      ]
    },
    {
      "cell_type": "code",
      "execution_count": 19,
      "metadata": {},
      "outputs": [
        {
          "data": {
            "text/html": [
              "<div>\n",
              "<style scoped>\n",
              "    .dataframe tbody tr th:only-of-type {\n",
              "        vertical-align: middle;\n",
              "    }\n",
              "\n",
              "    .dataframe tbody tr th {\n",
              "        vertical-align: top;\n",
              "    }\n",
              "\n",
              "    .dataframe thead th {\n",
              "        text-align: right;\n",
              "    }\n",
              "</style>\n",
              "<table border=\"1\" class=\"dataframe\">\n",
              "  <thead>\n",
              "    <tr style=\"text-align: right;\">\n",
              "      <th></th>\n",
              "      <th>user_id</th>\n",
              "      <th>region</th>\n",
              "      <th>device</th>\n",
              "      <th>channel</th>\n",
              "      <th>session_start</th>\n",
              "      <th>session_end</th>\n",
              "    </tr>\n",
              "  </thead>\n",
              "  <tbody>\n",
              "    <tr>\n",
              "      <th>0</th>\n",
              "      <td>981449000000</td>\n",
              "      <td>United States</td>\n",
              "      <td>iphone</td>\n",
              "      <td>organic</td>\n",
              "      <td>2019-05-01 02:36:00</td>\n",
              "      <td>2019-05-01 02:45:00</td>\n",
              "    </tr>\n",
              "    <tr>\n",
              "      <th>1</th>\n",
              "      <td>278966000000</td>\n",
              "      <td>United States</td>\n",
              "      <td>iphone</td>\n",
              "      <td>organic</td>\n",
              "      <td>2019-05-01 04:46:00</td>\n",
              "      <td>2019-05-01 04:47:00</td>\n",
              "    </tr>\n",
              "    <tr>\n",
              "      <th>2</th>\n",
              "      <td>590706000000</td>\n",
              "      <td>United States</td>\n",
              "      <td>mac</td>\n",
              "      <td>organic</td>\n",
              "      <td>2019-05-01 14:09:00</td>\n",
              "      <td>2019-05-01 15:32:00</td>\n",
              "    </tr>\n",
              "    <tr>\n",
              "      <th>3</th>\n",
              "      <td>326434000000</td>\n",
              "      <td>United States</td>\n",
              "      <td>android</td>\n",
              "      <td>TipTop</td>\n",
              "      <td>2019-05-01 00:29:00</td>\n",
              "      <td>2019-05-01 00:54:00</td>\n",
              "    </tr>\n",
              "    <tr>\n",
              "      <th>4</th>\n",
              "      <td>349774000000</td>\n",
              "      <td>United States</td>\n",
              "      <td>mac</td>\n",
              "      <td>organic</td>\n",
              "      <td>2019-05-01 03:33:00</td>\n",
              "      <td>2019-05-01 03:57:00</td>\n",
              "    </tr>\n",
              "    <tr>\n",
              "      <th>...</th>\n",
              "      <td>...</td>\n",
              "      <td>...</td>\n",
              "      <td>...</td>\n",
              "      <td>...</td>\n",
              "      <td>...</td>\n",
              "      <td>...</td>\n",
              "    </tr>\n",
              "    <tr>\n",
              "      <th>947</th>\n",
              "      <td>555066000000</td>\n",
              "      <td>United States</td>\n",
              "      <td>iphone</td>\n",
              "      <td>TipTop</td>\n",
              "      <td>2019-05-04 23:32:00</td>\n",
              "      <td>2019-05-04 23:38:00</td>\n",
              "    </tr>\n",
              "    <tr>\n",
              "      <th>948</th>\n",
              "      <td>771716000000</td>\n",
              "      <td>United States</td>\n",
              "      <td>android</td>\n",
              "      <td>TipTop</td>\n",
              "      <td>2019-05-04 19:32:00</td>\n",
              "      <td>2019-05-04 19:48:00</td>\n",
              "    </tr>\n",
              "    <tr>\n",
              "      <th>949</th>\n",
              "      <td>74352279110</td>\n",
              "      <td>United States</td>\n",
              "      <td>iphone</td>\n",
              "      <td>TipTop</td>\n",
              "      <td>2019-05-04 00:13:00</td>\n",
              "      <td>2019-05-04 00:26:00</td>\n",
              "    </tr>\n",
              "    <tr>\n",
              "      <th>950</th>\n",
              "      <td>608683000000</td>\n",
              "      <td>United States</td>\n",
              "      <td>android</td>\n",
              "      <td>FaceBoom</td>\n",
              "      <td>2019-05-04 03:33:00</td>\n",
              "      <td>2019-05-04 03:46:00</td>\n",
              "    </tr>\n",
              "    <tr>\n",
              "      <th>951</th>\n",
              "      <td>875326000000</td>\n",
              "      <td>United States</td>\n",
              "      <td>mac</td>\n",
              "      <td>organic</td>\n",
              "      <td>2019-05-04 03:01:00</td>\n",
              "      <td>2019-05-04 03:15:00</td>\n",
              "    </tr>\n",
              "  </tbody>\n",
              "</table>\n",
              "<p>952 rows × 6 columns</p>\n",
              "</div>"
            ],
            "text/plain": [
              "          user_id         region   device   channel       session_start  \\\n",
              "0    981449000000  United States   iphone   organic 2019-05-01 02:36:00   \n",
              "1    278966000000  United States   iphone   organic 2019-05-01 04:46:00   \n",
              "2    590706000000  United States      mac   organic 2019-05-01 14:09:00   \n",
              "3    326434000000  United States  android    TipTop 2019-05-01 00:29:00   \n",
              "4    349774000000  United States      mac   organic 2019-05-01 03:33:00   \n",
              "..            ...            ...      ...       ...                 ...   \n",
              "947  555066000000  United States   iphone    TipTop 2019-05-04 23:32:00   \n",
              "948  771716000000  United States  android    TipTop 2019-05-04 19:32:00   \n",
              "949   74352279110  United States   iphone    TipTop 2019-05-04 00:13:00   \n",
              "950  608683000000  United States  android  FaceBoom 2019-05-04 03:33:00   \n",
              "951  875326000000  United States      mac   organic 2019-05-04 03:01:00   \n",
              "\n",
              "            session_end  \n",
              "0   2019-05-01 02:45:00  \n",
              "1   2019-05-01 04:47:00  \n",
              "2   2019-05-01 15:32:00  \n",
              "3   2019-05-01 00:54:00  \n",
              "4   2019-05-01 03:57:00  \n",
              "..                  ...  \n",
              "947 2019-05-04 23:38:00  \n",
              "948 2019-05-04 19:48:00  \n",
              "949 2019-05-04 00:26:00  \n",
              "950 2019-05-04 03:46:00  \n",
              "951 2019-05-04 03:15:00  \n",
              "\n",
              "[952 rows x 6 columns]"
            ]
          },
          "execution_count": 19,
          "metadata": {},
          "output_type": "execute_result"
        }
      ],
      "source": [
        "df['session_start'] = pd.to_datetime(df['session_start'], format='%d.%m.%Y %H:%M')\n",
        "df['session_end'] = pd.to_datetime(df['session_end'], format='%d.%m.%Y %H:%M')\n",
        "df"
      ]
    },
    {
      "cell_type": "markdown",
      "metadata": {},
      "source": [
        "Далее была проведена проверка корректности изменения типов данных."
      ]
    },
    {
      "cell_type": "code",
      "execution_count": 20,
      "metadata": {},
      "outputs": [
        {
          "data": {
            "text/plain": [
              "user_id                   int64\n",
              "region                   object\n",
              "device                   object\n",
              "channel                  object\n",
              "session_start    datetime64[ns]\n",
              "session_end      datetime64[ns]\n",
              "dtype: object"
            ]
          },
          "execution_count": 20,
          "metadata": {},
          "output_type": "execute_result"
        }
      ],
      "source": [
        "df.dtypes"
      ]
    },
    {
      "cell_type": "markdown",
      "metadata": {
        "id": "DPDBNN4dlx7W"
      },
      "source": [
        "\n",
        "По итогу получился датафрейм с данными корректного типа."
      ]
    },
    {
      "cell_type": "markdown",
      "metadata": {
        "id": "lzr0SgqlnmHy"
      },
      "source": [
        "### 6. Группировка данных"
      ]
    },
    {
      "cell_type": "markdown",
      "metadata": {
        "id": "QG_dbwzfmZoS"
      },
      "source": [
        "#### Задание 1"
      ]
    },
    {
      "cell_type": "markdown",
      "metadata": {
        "id": "CyCKTB4DmciW"
      },
      "source": [
        "*`Группировка - region и количество устройств (device )`*"
      ]
    },
    {
      "cell_type": "markdown",
      "metadata": {},
      "source": [
        "Группировка выполнена с помощью методов groupby и size (возвращает количество строк в группе). "
      ]
    },
    {
      "cell_type": "code",
      "execution_count": 21,
      "metadata": {
        "id": "tp8Bl1gumYlI"
      },
      "outputs": [
        {
          "data": {
            "text/plain": [
              "region         device \n",
              "United States  android    185\n",
              "               iphone     422\n",
              "               mac        242\n",
              "               pc         103\n",
              "dtype: int64"
            ]
          },
          "execution_count": 21,
          "metadata": {},
          "output_type": "execute_result"
        }
      ],
      "source": [
        "df.groupby(['region', 'device']).size()"
      ]
    },
    {
      "cell_type": "markdown",
      "metadata": {},
      "source": [
        "Из результатов данной группировки  можно увидеть, что все подключения осуществлялись из США. Лидер по подключениям среди устройств - iPhone, меньше всего пользователей подключалось, используя ПК."
      ]
    },
    {
      "cell_type": "markdown",
      "metadata": {
        "id": "j0isGCzEne7a"
      },
      "source": [
        "#### Задание 2"
      ]
    },
    {
      "cell_type": "markdown",
      "metadata": {
        "id": "kE2vLBWbne7a"
      },
      "source": [
        "*`Группировка - device и количество рекламных источников каждого типа (channel). Создать датафрейм. Переименовать столбец с количеством в “сount”. Отсортировать по убыванию столбца “count” `*"
      ]
    },
    {
      "cell_type": "markdown",
      "metadata": {},
      "source": [
        "Был создан новый датафрейм new_df. Помимо вышеописанных, используется метод reset_index, который преобразует Series (получен при группировке) в датафрейм. Метод sort_values с параметром ascending=False сортирует данные в порядке убывания."
      ]
    },
    {
      "cell_type": "code",
      "execution_count": 22,
      "metadata": {
        "id": "ttn78Zaene7a"
      },
      "outputs": [
        {
          "data": {
            "text/html": [
              "<div>\n",
              "<style scoped>\n",
              "    .dataframe tbody tr th:only-of-type {\n",
              "        vertical-align: middle;\n",
              "    }\n",
              "\n",
              "    .dataframe tbody tr th {\n",
              "        vertical-align: top;\n",
              "    }\n",
              "\n",
              "    .dataframe thead th {\n",
              "        text-align: right;\n",
              "    }\n",
              "</style>\n",
              "<table border=\"1\" class=\"dataframe\">\n",
              "  <thead>\n",
              "    <tr style=\"text-align: right;\">\n",
              "      <th></th>\n",
              "      <th>device</th>\n",
              "      <th>channel</th>\n",
              "      <th>count</th>\n",
              "    </tr>\n",
              "  </thead>\n",
              "  <tbody>\n",
              "    <tr>\n",
              "      <th>7</th>\n",
              "      <td>iphone</td>\n",
              "      <td>organic</td>\n",
              "      <td>249</td>\n",
              "    </tr>\n",
              "    <tr>\n",
              "      <th>11</th>\n",
              "      <td>mac</td>\n",
              "      <td>organic</td>\n",
              "      <td>172</td>\n",
              "    </tr>\n",
              "    <tr>\n",
              "      <th>3</th>\n",
              "      <td>android</td>\n",
              "      <td>organic</td>\n",
              "      <td>115</td>\n",
              "    </tr>\n",
              "    <tr>\n",
              "      <th>6</th>\n",
              "      <td>iphone</td>\n",
              "      <td>TipTop</td>\n",
              "      <td>78</td>\n",
              "    </tr>\n",
              "    <tr>\n",
              "      <th>15</th>\n",
              "      <td>pc</td>\n",
              "      <td>organic</td>\n",
              "      <td>72</td>\n",
              "    </tr>\n",
              "    <tr>\n",
              "      <th>4</th>\n",
              "      <td>iphone</td>\n",
              "      <td>FaceBoom</td>\n",
              "      <td>65</td>\n",
              "    </tr>\n",
              "    <tr>\n",
              "      <th>8</th>\n",
              "      <td>mac</td>\n",
              "      <td>FaceBoom</td>\n",
              "      <td>36</td>\n",
              "    </tr>\n",
              "    <tr>\n",
              "      <th>0</th>\n",
              "      <td>android</td>\n",
              "      <td>FaceBoom</td>\n",
              "      <td>33</td>\n",
              "    </tr>\n",
              "    <tr>\n",
              "      <th>5</th>\n",
              "      <td>iphone</td>\n",
              "      <td>MediaTornado</td>\n",
              "      <td>30</td>\n",
              "    </tr>\n",
              "    <tr>\n",
              "      <th>2</th>\n",
              "      <td>android</td>\n",
              "      <td>TipTop</td>\n",
              "      <td>26</td>\n",
              "    </tr>\n",
              "    <tr>\n",
              "      <th>10</th>\n",
              "      <td>mac</td>\n",
              "      <td>TipTop</td>\n",
              "      <td>24</td>\n",
              "    </tr>\n",
              "    <tr>\n",
              "      <th>12</th>\n",
              "      <td>pc</td>\n",
              "      <td>FaceBoom</td>\n",
              "      <td>15</td>\n",
              "    </tr>\n",
              "    <tr>\n",
              "      <th>14</th>\n",
              "      <td>pc</td>\n",
              "      <td>TipTop</td>\n",
              "      <td>14</td>\n",
              "    </tr>\n",
              "    <tr>\n",
              "      <th>1</th>\n",
              "      <td>android</td>\n",
              "      <td>MediaTornado</td>\n",
              "      <td>11</td>\n",
              "    </tr>\n",
              "    <tr>\n",
              "      <th>9</th>\n",
              "      <td>mac</td>\n",
              "      <td>MediaTornado</td>\n",
              "      <td>10</td>\n",
              "    </tr>\n",
              "    <tr>\n",
              "      <th>13</th>\n",
              "      <td>pc</td>\n",
              "      <td>MediaTornado</td>\n",
              "      <td>2</td>\n",
              "    </tr>\n",
              "  </tbody>\n",
              "</table>\n",
              "</div>"
            ],
            "text/plain": [
              "     device       channel  count\n",
              "7    iphone       organic    249\n",
              "11      mac       organic    172\n",
              "3   android       organic    115\n",
              "6    iphone        TipTop     78\n",
              "15       pc       organic     72\n",
              "4    iphone      FaceBoom     65\n",
              "8       mac      FaceBoom     36\n",
              "0   android      FaceBoom     33\n",
              "5    iphone  MediaTornado     30\n",
              "2   android        TipTop     26\n",
              "10      mac        TipTop     24\n",
              "12       pc      FaceBoom     15\n",
              "14       pc        TipTop     14\n",
              "1   android  MediaTornado     11\n",
              "9       mac  MediaTornado     10\n",
              "13       pc  MediaTornado      2"
            ]
          },
          "execution_count": 22,
          "metadata": {},
          "output_type": "execute_result"
        }
      ],
      "source": [
        "new_df = df.groupby(['device', 'channel']).size().reset_index(name='count')\n",
        "new_df.sort_values('count', ascending=False)"
      ]
    },
    {
      "cell_type": "markdown",
      "metadata": {},
      "source": [
        "Из результатов данной группировки  можно увидеть, что преобладающее количество пользователей подключались через канал organic. Таким образом, данный канал является основным источником притока людей."
      ]
    },
    {
      "cell_type": "markdown",
      "metadata": {
        "id": "_3fHGp64nhUJ"
      },
      "source": [
        "#### Задание 3"
      ]
    },
    {
      "cell_type": "markdown",
      "metadata": {
        "id": "_Bc4ehyKnhUJ"
      },
      "source": [
        "*`Сводная таблица (pivot_table) - количество пользователей для каждого канала (channel). Отсортировать по убыванию количества`*"
      ]
    },
    {
      "cell_type": "markdown",
      "metadata": {},
      "source": [
        "Сводная таблица была сделана с помощью команды pivot_table."
      ]
    },
    {
      "cell_type": "code",
      "execution_count": 23,
      "metadata": {
        "id": "siDovPvQnhUJ"
      },
      "outputs": [
        {
          "data": {
            "text/html": [
              "<div>\n",
              "<style scoped>\n",
              "    .dataframe tbody tr th:only-of-type {\n",
              "        vertical-align: middle;\n",
              "    }\n",
              "\n",
              "    .dataframe tbody tr th {\n",
              "        vertical-align: top;\n",
              "    }\n",
              "\n",
              "    .dataframe thead th {\n",
              "        text-align: right;\n",
              "    }\n",
              "</style>\n",
              "<table border=\"1\" class=\"dataframe\">\n",
              "  <thead>\n",
              "    <tr style=\"text-align: right;\">\n",
              "      <th></th>\n",
              "      <th>user_id</th>\n",
              "    </tr>\n",
              "    <tr>\n",
              "      <th>channel</th>\n",
              "      <th></th>\n",
              "    </tr>\n",
              "  </thead>\n",
              "  <tbody>\n",
              "    <tr>\n",
              "      <th>organic</th>\n",
              "      <td>608</td>\n",
              "    </tr>\n",
              "    <tr>\n",
              "      <th>FaceBoom</th>\n",
              "      <td>149</td>\n",
              "    </tr>\n",
              "    <tr>\n",
              "      <th>TipTop</th>\n",
              "      <td>142</td>\n",
              "    </tr>\n",
              "    <tr>\n",
              "      <th>MediaTornado</th>\n",
              "      <td>53</td>\n",
              "    </tr>\n",
              "  </tbody>\n",
              "</table>\n",
              "</div>"
            ],
            "text/plain": [
              "              user_id\n",
              "channel              \n",
              "organic           608\n",
              "FaceBoom          149\n",
              "TipTop            142\n",
              "MediaTornado       53"
            ]
          },
          "execution_count": 23,
          "metadata": {},
          "output_type": "execute_result"
        }
      ],
      "source": [
        "df.pivot_table(index='channel', values='user_id', aggfunc='count').sort_values('user_id', ascending=False)"
      ]
    },
    {
      "cell_type": "markdown",
      "metadata": {},
      "source": [
        "По данным, полученным в сводной таблице, можно сказать, что канал organic по числу пришедших пользователей опережает своих конкурентов в несколько раз. Это показывает, как и говорилось ранее, что данный канал является основным источником людей."
      ]
    },
    {
      "cell_type": "markdown",
      "metadata": {
        "id": "FOlw74xCniNo"
      },
      "source": [
        "#### Задание 4"
      ]
    },
    {
      "cell_type": "markdown",
      "metadata": {
        "id": "4tvYwT25niNq"
      },
      "source": [
        "*`Сводная таблица (pivot_table) - количество пользователей для каждого устройства (device) - строки и канала - столбцы. Отсортировать по возрастанию столбца device.`*"
      ]
    },
    {
      "cell_type": "code",
      "execution_count": 24,
      "metadata": {
        "id": "TfJ719g6niNq"
      },
      "outputs": [
        {
          "data": {
            "text/html": [
              "<div>\n",
              "<style scoped>\n",
              "    .dataframe tbody tr th:only-of-type {\n",
              "        vertical-align: middle;\n",
              "    }\n",
              "\n",
              "    .dataframe tbody tr th {\n",
              "        vertical-align: top;\n",
              "    }\n",
              "\n",
              "    .dataframe thead th {\n",
              "        text-align: right;\n",
              "    }\n",
              "</style>\n",
              "<table border=\"1\" class=\"dataframe\">\n",
              "  <thead>\n",
              "    <tr style=\"text-align: right;\">\n",
              "      <th>channel</th>\n",
              "      <th>FaceBoom</th>\n",
              "      <th>MediaTornado</th>\n",
              "      <th>TipTop</th>\n",
              "      <th>organic</th>\n",
              "    </tr>\n",
              "    <tr>\n",
              "      <th>device</th>\n",
              "      <th></th>\n",
              "      <th></th>\n",
              "      <th></th>\n",
              "      <th></th>\n",
              "    </tr>\n",
              "  </thead>\n",
              "  <tbody>\n",
              "    <tr>\n",
              "      <th>android</th>\n",
              "      <td>33</td>\n",
              "      <td>11</td>\n",
              "      <td>26</td>\n",
              "      <td>115</td>\n",
              "    </tr>\n",
              "    <tr>\n",
              "      <th>iphone</th>\n",
              "      <td>65</td>\n",
              "      <td>30</td>\n",
              "      <td>78</td>\n",
              "      <td>249</td>\n",
              "    </tr>\n",
              "    <tr>\n",
              "      <th>mac</th>\n",
              "      <td>36</td>\n",
              "      <td>10</td>\n",
              "      <td>24</td>\n",
              "      <td>172</td>\n",
              "    </tr>\n",
              "    <tr>\n",
              "      <th>pc</th>\n",
              "      <td>15</td>\n",
              "      <td>2</td>\n",
              "      <td>14</td>\n",
              "      <td>72</td>\n",
              "    </tr>\n",
              "  </tbody>\n",
              "</table>\n",
              "</div>"
            ],
            "text/plain": [
              "channel  FaceBoom  MediaTornado  TipTop  organic\n",
              "device                                          \n",
              "android        33            11      26      115\n",
              "iphone         65            30      78      249\n",
              "mac            36            10      24      172\n",
              "pc             15             2      14       72"
            ]
          },
          "execution_count": 24,
          "metadata": {},
          "output_type": "execute_result"
        }
      ],
      "source": [
        "df.pivot_table(index='device', columns='channel', values='user_id', aggfunc='count').sort_values('device', ascending=True)"
      ]
    },
    {
      "cell_type": "markdown",
      "metadata": {},
      "source": [
        "По данным, полученным в сводной таблице, можно сказать, что пользователи США куда чаще посещают данный сайт, используя продукцию Apple (iPhone, Mac) и канал organic. "
      ]
    },
    {
      "cell_type": "markdown",
      "metadata": {
        "id": "TpnXb6gip3S8"
      },
      "source": [
        "### Вывод"
      ]
    },
    {
      "cell_type": "markdown",
      "metadata": {
        "id": "nqLa096jM1Z8"
      },
      "source": [
        "В ходе выполнения лабораторной работы был проанализирован набор данных, содержащий информацию о пользовательских сессиях магазина. Были рассмотрены следующие данные: id пользователей, регион, устройство, источник рекламы, а также время сессии.\n",
        "Были применены следующие методы предобработки:\n",
        "1)\tПолучение общей информации и сводной статистики по данным для первичного анализа с помощью методов info и describe ;\n",
        "2)\tПриведение к одному виду названий столбцов, используя нижний регистр за счет метода str.lower();\n",
        "3)\tПодсчет и удаление строк с пропущенными значениями;\n",
        "4)\tdrop_duplicates().reset_index(drop=True) – удаление явных дубликатов с обновлением индексации;\n",
        "5)\tВыявление и удаление неявных дубликатов;\n",
        "6)\tПросмотр и изменение типов данных с помощью методов dtype(), astype(), to_datetime().\n",
        "\n",
        "При выполнении группировок и составлении сводных таблиц были сделаны выводы о том, что пользователи США куда чаще посещают данный сайт, используя продукцию Apple (iPhone, Mac) и канал organic. Соответственно, это является основным источником людей для данного интернет-магазина, что может быть использовано для более удачной рекламной стратегии.\n",
        "\n"
      ]
    },
    {
      "cell_type": "markdown",
      "metadata": {
        "id": "Sn3y7og_vjGG"
      },
      "source": [
        "### Дополнительное задание\n",
        "\n",
        "### Задание №6"
      ]
    },
    {
      "cell_type": "markdown",
      "metadata": {
        "id": "rR6WgHXYvlqD"
      },
      "source": [
        "**`Добавить столбец - “Длительность сессии” (расчетный). Создать столбец “Категория длительности” (с помощью категоризации). Выделить минимум 3 категории (низкая, высокая, средняя), фильтрацию для уровня длительности выбрать самостоятельно, аргументировать выбор. Создать сводную таблицу: средняя и медианная длительность сессии по категории длительности и каналу. `**"
      ]
    },
    {
      "cell_type": "markdown",
      "metadata": {},
      "source": [
        "Добавляется столбец \"длительность сессии\", рассчитывается (в минутах). bins - границы для определения категорий, выбраны из собственных соображений о длительности пребывания на сайте интернет-магазина, labels - метки фильтрации, include_lowest=True - параметр, делающий так, чтобы левая граница метки учитывалась. Создается сводная таблица по условиям, описанным в задании."
      ]
    },
    {
      "cell_type": "code",
      "execution_count": 68,
      "metadata": {
        "id": "wG5TGQpevlBq"
      },
      "outputs": [
        {
          "data": {
            "text/html": [
              "<div>\n",
              "<style scoped>\n",
              "    .dataframe tbody tr th:only-of-type {\n",
              "        vertical-align: middle;\n",
              "    }\n",
              "\n",
              "    .dataframe tbody tr th {\n",
              "        vertical-align: top;\n",
              "    }\n",
              "\n",
              "    .dataframe thead tr th {\n",
              "        text-align: left;\n",
              "    }\n",
              "\n",
              "    .dataframe thead tr:last-of-type th {\n",
              "        text-align: right;\n",
              "    }\n",
              "</style>\n",
              "<table border=\"1\" class=\"dataframe\">\n",
              "  <thead>\n",
              "    <tr>\n",
              "      <th></th>\n",
              "      <th colspan=\"4\" halign=\"left\">mean</th>\n",
              "      <th colspan=\"4\" halign=\"left\">median</th>\n",
              "    </tr>\n",
              "    <tr>\n",
              "      <th>channel</th>\n",
              "      <th>FaceBoom</th>\n",
              "      <th>MediaTornado</th>\n",
              "      <th>TipTop</th>\n",
              "      <th>organic</th>\n",
              "      <th>FaceBoom</th>\n",
              "      <th>MediaTornado</th>\n",
              "      <th>TipTop</th>\n",
              "      <th>organic</th>\n",
              "    </tr>\n",
              "    <tr>\n",
              "      <th>duration_category</th>\n",
              "      <th></th>\n",
              "      <th></th>\n",
              "      <th></th>\n",
              "      <th></th>\n",
              "      <th></th>\n",
              "      <th></th>\n",
              "      <th></th>\n",
              "      <th></th>\n",
              "    </tr>\n",
              "  </thead>\n",
              "  <tbody>\n",
              "    <tr>\n",
              "      <th>низкая</th>\n",
              "      <td>10.040541</td>\n",
              "      <td>6.923077</td>\n",
              "      <td>8.522388</td>\n",
              "      <td>9.789474</td>\n",
              "      <td>10.0</td>\n",
              "      <td>5.5</td>\n",
              "      <td>8.0</td>\n",
              "      <td>10.0</td>\n",
              "    </tr>\n",
              "    <tr>\n",
              "      <th>средняя</th>\n",
              "      <td>35.178571</td>\n",
              "      <td>36.615385</td>\n",
              "      <td>35.220339</td>\n",
              "      <td>36.828054</td>\n",
              "      <td>31.5</td>\n",
              "      <td>35.5</td>\n",
              "      <td>33.0</td>\n",
              "      <td>35.0</td>\n",
              "    </tr>\n",
              "    <tr>\n",
              "      <th>высокая</th>\n",
              "      <td>81.736842</td>\n",
              "      <td>65.000000</td>\n",
              "      <td>81.562500</td>\n",
              "      <td>86.144578</td>\n",
              "      <td>74.0</td>\n",
              "      <td>65.0</td>\n",
              "      <td>73.5</td>\n",
              "      <td>83.0</td>\n",
              "    </tr>\n",
              "  </tbody>\n",
              "</table>\n",
              "</div>"
            ],
            "text/plain": [
              "                        mean                                      median  \\\n",
              "channel             FaceBoom MediaTornado     TipTop    organic FaceBoom   \n",
              "duration_category                                                          \n",
              "низкая             10.040541     6.923077   8.522388   9.789474     10.0   \n",
              "средняя            35.178571    36.615385  35.220339  36.828054     31.5   \n",
              "высокая            81.736842    65.000000  81.562500  86.144578     74.0   \n",
              "\n",
              "                                               \n",
              "channel           MediaTornado TipTop organic  \n",
              "duration_category                              \n",
              "низкая                     5.5    8.0    10.0  \n",
              "средняя                   35.5   33.0    35.0  \n",
              "высокая                   65.0   73.5    83.0  "
            ]
          },
          "execution_count": 68,
          "metadata": {},
          "output_type": "execute_result"
        }
      ],
      "source": [
        "df['duration_minute'] = (df['session_end'] - df['session_start']).dt.total_seconds() / 60\n",
        "\n",
        "bins = [0, 20, 60, float('inf')]\n",
        "labels = ['низкая', 'средняя', 'высокая']\n",
        "df['duration_category'] = pd.cut(df['duration_minute'], bins=bins, labels=labels, include_lowest=True)\n",
        "\n",
        "df.pivot_table(index='duration_category', columns='channel', values='duration_minute', aggfunc=['mean', 'median'], observed=False)"
      ]
    },
    {
      "cell_type": "markdown",
      "metadata": {
        "id": "y-qpTuhTvon3"
      },
      "source": [
        "Выводы:\n",
        "1) Средняя длительность сессии.\n",
        "\n",
        "В категории \"низкая\" лидируют два канала - FaceBoom и organic.\n",
        "В категории \"средняя\" значения всех каналов примерно одинаковы.\n",
        "В категории \"высокая\" - каналы FaceBoom, TipTop и organic показывают хорошие высокие результаты.\n",
        "\n",
        "2) Медиана.\n",
        "\n",
        "Почти в каждой категории медианные значения чуть меньше средних, что свидетельствует о наличии небольшого количества очень длинных сессий, которые значительно увеличивают средние показатели."
      ]
    },
    {
      "cell_type": "markdown",
      "metadata": {},
      "source": [
        "### Задание №10\n",
        " \n",
        " **`Добавить столбец - “Длительность сессии” (расчетный). Создать столбец “Категория длительности” (с помощью категоризации). Выделить минимум 3 категории (низкая, высокая, средняя), фильтрацию для уровня длительности выбрать самостоятельно, аргументировать выбор. Создать группировку: средняя, минимальная, максимальная, медианная длительность сессии по категории длительности и устройству `**"
      ]
    },
    {
      "cell_type": "markdown",
      "metadata": {},
      "source": [
        "Алгоритм вычисления длительности сессии и создания столбца \"категория длительности\" аналогичен алгоритму в задании №6. Выполняется группировка относительно условий, описанных в задании."
      ]
    },
    {
      "cell_type": "code",
      "execution_count": 67,
      "metadata": {},
      "outputs": [
        {
          "data": {
            "text/html": [
              "<div>\n",
              "<style scoped>\n",
              "    .dataframe tbody tr th:only-of-type {\n",
              "        vertical-align: middle;\n",
              "    }\n",
              "\n",
              "    .dataframe tbody tr th {\n",
              "        vertical-align: top;\n",
              "    }\n",
              "\n",
              "    .dataframe thead th {\n",
              "        text-align: right;\n",
              "    }\n",
              "</style>\n",
              "<table border=\"1\" class=\"dataframe\">\n",
              "  <thead>\n",
              "    <tr style=\"text-align: right;\">\n",
              "      <th></th>\n",
              "      <th>duration_category</th>\n",
              "      <th>device</th>\n",
              "      <th>avg</th>\n",
              "      <th>min_duration</th>\n",
              "      <th>max_duration</th>\n",
              "      <th>median</th>\n",
              "    </tr>\n",
              "  </thead>\n",
              "  <tbody>\n",
              "    <tr>\n",
              "      <th>0</th>\n",
              "      <td>низкая</td>\n",
              "      <td>android</td>\n",
              "      <td>9.607143</td>\n",
              "      <td>0.0</td>\n",
              "      <td>20.0</td>\n",
              "      <td>10.0</td>\n",
              "    </tr>\n",
              "    <tr>\n",
              "      <th>1</th>\n",
              "      <td>низкая</td>\n",
              "      <td>iphone</td>\n",
              "      <td>8.807692</td>\n",
              "      <td>0.0</td>\n",
              "      <td>20.0</td>\n",
              "      <td>8.0</td>\n",
              "    </tr>\n",
              "    <tr>\n",
              "      <th>2</th>\n",
              "      <td>низкая</td>\n",
              "      <td>mac</td>\n",
              "      <td>10.519685</td>\n",
              "      <td>0.0</td>\n",
              "      <td>20.0</td>\n",
              "      <td>10.0</td>\n",
              "    </tr>\n",
              "    <tr>\n",
              "      <th>3</th>\n",
              "      <td>низкая</td>\n",
              "      <td>pc</td>\n",
              "      <td>9.519231</td>\n",
              "      <td>0.0</td>\n",
              "      <td>20.0</td>\n",
              "      <td>9.5</td>\n",
              "    </tr>\n",
              "    <tr>\n",
              "      <th>4</th>\n",
              "      <td>средняя</td>\n",
              "      <td>android</td>\n",
              "      <td>36.081081</td>\n",
              "      <td>21.0</td>\n",
              "      <td>58.0</td>\n",
              "      <td>35.0</td>\n",
              "    </tr>\n",
              "    <tr>\n",
              "      <th>5</th>\n",
              "      <td>средняя</td>\n",
              "      <td>iphone</td>\n",
              "      <td>36.097561</td>\n",
              "      <td>21.0</td>\n",
              "      <td>60.0</td>\n",
              "      <td>34.0</td>\n",
              "    </tr>\n",
              "    <tr>\n",
              "      <th>6</th>\n",
              "      <td>средняя</td>\n",
              "      <td>mac</td>\n",
              "      <td>36.454545</td>\n",
              "      <td>21.0</td>\n",
              "      <td>60.0</td>\n",
              "      <td>34.0</td>\n",
              "    </tr>\n",
              "    <tr>\n",
              "      <th>7</th>\n",
              "      <td>средняя</td>\n",
              "      <td>pc</td>\n",
              "      <td>37.250000</td>\n",
              "      <td>21.0</td>\n",
              "      <td>60.0</td>\n",
              "      <td>35.0</td>\n",
              "    </tr>\n",
              "    <tr>\n",
              "      <th>8</th>\n",
              "      <td>высокая</td>\n",
              "      <td>android</td>\n",
              "      <td>82.851852</td>\n",
              "      <td>61.0</td>\n",
              "      <td>114.0</td>\n",
              "      <td>83.0</td>\n",
              "    </tr>\n",
              "    <tr>\n",
              "      <th>9</th>\n",
              "      <td>высокая</td>\n",
              "      <td>iphone</td>\n",
              "      <td>85.520000</td>\n",
              "      <td>61.0</td>\n",
              "      <td>262.0</td>\n",
              "      <td>77.5</td>\n",
              "    </tr>\n",
              "    <tr>\n",
              "      <th>10</th>\n",
              "      <td>высокая</td>\n",
              "      <td>mac</td>\n",
              "      <td>83.777778</td>\n",
              "      <td>61.0</td>\n",
              "      <td>154.0</td>\n",
              "      <td>83.0</td>\n",
              "    </tr>\n",
              "    <tr>\n",
              "      <th>11</th>\n",
              "      <td>высокая</td>\n",
              "      <td>pc</td>\n",
              "      <td>86.533333</td>\n",
              "      <td>61.0</td>\n",
              "      <td>137.0</td>\n",
              "      <td>79.0</td>\n",
              "    </tr>\n",
              "  </tbody>\n",
              "</table>\n",
              "</div>"
            ],
            "text/plain": [
              "   duration_category   device        avg  min_duration  max_duration  median\n",
              "0             низкая  android   9.607143           0.0          20.0    10.0\n",
              "1             низкая   iphone   8.807692           0.0          20.0     8.0\n",
              "2             низкая      mac  10.519685           0.0          20.0    10.0\n",
              "3             низкая       pc   9.519231           0.0          20.0     9.5\n",
              "4            средняя  android  36.081081          21.0          58.0    35.0\n",
              "5            средняя   iphone  36.097561          21.0          60.0    34.0\n",
              "6            средняя      mac  36.454545          21.0          60.0    34.0\n",
              "7            средняя       pc  37.250000          21.0          60.0    35.0\n",
              "8            высокая  android  82.851852          61.0         114.0    83.0\n",
              "9            высокая   iphone  85.520000          61.0         262.0    77.5\n",
              "10           высокая      mac  83.777778          61.0         154.0    83.0\n",
              "11           высокая       pc  86.533333          61.0         137.0    79.0"
            ]
          },
          "execution_count": 67,
          "metadata": {},
          "output_type": "execute_result"
        }
      ],
      "source": [
        "df['duration_minute'] = (df['session_end'] - df['session_start']).dt.total_seconds() / 60\n",
        "\n",
        "bins = [0, 20, 60, float('inf')]\n",
        "labels = ['низкая', 'средняя', 'высокая']\n",
        "df['duration_category'] = pd.cut(df['duration_minute'], bins=bins, labels=labels, include_lowest=True)\n",
        "\n",
        "df.groupby(['duration_category', 'device'], observed=False)['duration_minute'].agg(avg='mean', min_duration='min', max_duration='max', median='median').reset_index()"
      ]
    },
    {
      "cell_type": "markdown",
      "metadata": {},
      "source": [
        "Выводы:\n",
        "1) Категории \"низкая\" и \"средняя\" длительность. \n",
        "\n",
        "На всех устройствах наблюдаются схожие показатели.\n",
        "\n",
        "2) Категория \"высокая\" длительность. \n",
        "\n",
        "Присутсвуют заметные различия в максимальной и медианной длительностях у разных устройств. Самая высокая максимальная длительность наблюдается на iPhone (262 мин), что значительно больше, чем у остальных устройств, при этом медианная длительность - несколько ниже. Это говорит о наличии небольшого количества затяжных сессий."
      ]
    },
    {
      "cell_type": "markdown",
      "metadata": {},
      "source": [
        "### Задание №13\n",
        " \n",
        " **`Добавить столбец - “Длительность сессии” (расчетный). Отфильтровать набор данных. Выбрать только те записи, средняя длительность на которых выше определенного числа (число выбрать самостоятельно). Для отфильтрованного набора данных выполнить группировку: канал привлечения и средняя+медианная длительность`**"
      ]
    },
    {
      "cell_type": "markdown",
      "metadata": {},
      "source": [
        "Происходит расчет длительности сессии. Выбирается число num=35, относительно которого будут фильтроваться данные. Отфильтрованные данные группируются по условиям, описанным в задании."
      ]
    },
    {
      "cell_type": "code",
      "execution_count": 64,
      "metadata": {},
      "outputs": [
        {
          "data": {
            "text/html": [
              "<div>\n",
              "<style scoped>\n",
              "    .dataframe tbody tr th:only-of-type {\n",
              "        vertical-align: middle;\n",
              "    }\n",
              "\n",
              "    .dataframe tbody tr th {\n",
              "        vertical-align: top;\n",
              "    }\n",
              "\n",
              "    .dataframe thead th {\n",
              "        text-align: right;\n",
              "    }\n",
              "</style>\n",
              "<table border=\"1\" class=\"dataframe\">\n",
              "  <thead>\n",
              "    <tr style=\"text-align: right;\">\n",
              "      <th></th>\n",
              "      <th>channel</th>\n",
              "      <th>mean</th>\n",
              "      <th>median</th>\n",
              "    </tr>\n",
              "  </thead>\n",
              "  <tbody>\n",
              "    <tr>\n",
              "      <th>0</th>\n",
              "      <td>FaceBoom</td>\n",
              "      <td>62.928571</td>\n",
              "      <td>58.5</td>\n",
              "    </tr>\n",
              "    <tr>\n",
              "      <th>1</th>\n",
              "      <td>MediaTornado</td>\n",
              "      <td>47.428571</td>\n",
              "      <td>46.0</td>\n",
              "    </tr>\n",
              "    <tr>\n",
              "      <th>2</th>\n",
              "      <td>TipTop</td>\n",
              "      <td>58.090909</td>\n",
              "      <td>50.0</td>\n",
              "    </tr>\n",
              "    <tr>\n",
              "      <th>3</th>\n",
              "      <td>organic</td>\n",
              "      <td>64.235294</td>\n",
              "      <td>57.0</td>\n",
              "    </tr>\n",
              "  </tbody>\n",
              "</table>\n",
              "</div>"
            ],
            "text/plain": [
              "        channel       mean  median\n",
              "0      FaceBoom  62.928571    58.5\n",
              "1  MediaTornado  47.428571    46.0\n",
              "2        TipTop  58.090909    50.0\n",
              "3       organic  64.235294    57.0"
            ]
          },
          "execution_count": 64,
          "metadata": {},
          "output_type": "execute_result"
        }
      ],
      "source": [
        "df['duration_minute'] = (df['session_end'] - df['session_start']).dt.total_seconds() / 60\n",
        "\n",
        "num = 35\n",
        "filtered_df = df[df['duration_minute'] > num]\n",
        "\n",
        "filtered_df.groupby('channel')['duration_minute'].agg(mean='mean', median='median').reset_index()"
      ]
    },
    {
      "cell_type": "markdown",
      "metadata": {},
      "source": [
        "Выводы:\n",
        "1) Средняя длительность. \n",
        "\n",
        "Самое большое время - у канала organic, самое маленькое - у MediaTornado, что в очередной раз доказывает эффективность первого.\n",
        "\n",
        "2) Медиана.\n",
        "\n",
        "Почти в каждой категории медианные значения чуть меньше средних, что свидетельствует о наличии небольшого количества очень длинных сессий, которые значительно увеличивают средние показатели."
      ]
    },
    {
      "cell_type": "markdown",
      "metadata": {},
      "source": [
        "### Задание №16\n",
        " \n",
        " **`Добавить столбец - “Длительность сессии” (расчетный). Отфильтровать набор данных. Выбрать только те записи, средняя длительность на которых ниже определенного числа (число выбрать самостоятельно) + топ 1 устройство по количеству записей + топ 2 канала привлечения по количеству записей . Для отфильтрованного набора данных выполнить группировку: устройство и средняя+медианная+максимальная+ минимальная длительность.`**"
      ]
    },
    {
      "cell_type": "markdown",
      "metadata": {},
      "source": [
        "Происходит расчет длительности сессии. Выбирается число num=35, относительно которого будут фильтроваться данные. Вычисляется топ 1 устройство и топ 2 рекламных канала. Данные фильтруются. Отфильтрованные данные группируются по условиям, описанным в задании."
      ]
    },
    {
      "cell_type": "code",
      "execution_count": 93,
      "metadata": {},
      "outputs": [
        {
          "data": {
            "text/html": [
              "<div>\n",
              "<style scoped>\n",
              "    .dataframe tbody tr th:only-of-type {\n",
              "        vertical-align: middle;\n",
              "    }\n",
              "\n",
              "    .dataframe tbody tr th {\n",
              "        vertical-align: top;\n",
              "    }\n",
              "\n",
              "    .dataframe thead th {\n",
              "        text-align: right;\n",
              "    }\n",
              "</style>\n",
              "<table border=\"1\" class=\"dataframe\">\n",
              "  <thead>\n",
              "    <tr style=\"text-align: right;\">\n",
              "      <th></th>\n",
              "      <th>device</th>\n",
              "      <th>avg</th>\n",
              "      <th>median</th>\n",
              "      <th>min_duration</th>\n",
              "      <th>max_duration</th>\n",
              "    </tr>\n",
              "  </thead>\n",
              "  <tbody>\n",
              "    <tr>\n",
              "      <th>0</th>\n",
              "      <td>iphone</td>\n",
              "      <td>14.468182</td>\n",
              "      <td>13.0</td>\n",
              "      <td>0.0</td>\n",
              "      <td>34.0</td>\n",
              "    </tr>\n",
              "  </tbody>\n",
              "</table>\n",
              "</div>"
            ],
            "text/plain": [
              "   device        avg  median  min_duration  max_duration\n",
              "0  iphone  14.468182    13.0           0.0          34.0"
            ]
          },
          "execution_count": 93,
          "metadata": {},
          "output_type": "execute_result"
        }
      ],
      "source": [
        "df['duration_minute'] = (df['session_end'] - df['session_start']).dt.total_seconds() / 60\n",
        "\n",
        "num = 35\n",
        "filtered_df = df[df['duration_minute'] < num]\n",
        "\n",
        "top_device = filtered_df['device'].value_counts().idxmax()\n",
        "top_channels = filtered_df['channel'].value_counts()\n",
        "top_2_channels = top_channels.index[:2]\n",
        "\n",
        "final_filtered_df = filtered_df[\n",
        "    (filtered_df['device'] == top_device) &\n",
        "    (filtered_df['channel'].isin(top_2_channels))\n",
        "]\n",
        "\n",
        "final_filtered_df.groupby('device')['duration_minute'].agg(avg='mean', median='median', min_duration='min', max_duration='max').reset_index()"
      ]
    },
    {
      "cell_type": "markdown",
      "metadata": {},
      "source": [
        "Вывод:\n",
        "\n",
        "В выбранном диапазоне (значения меньше 35) длительность варьируется от 0 до 34. Средняя и медианная длительности меньше 35/2, что говорит о наличии большего количества коротких сессий, нежели длинных."
      ]
    },
    {
      "cell_type": "markdown",
      "metadata": {},
      "source": [
        "### Задание №21\n",
        " \n",
        " **`Добавить столбец - “Длительность сессии” (расчетный). Отфильтровать набор данных. Выбрать только те записи, средняя длительность на которых лежит в определенном диапазоне (нижнюю и верхнюю границы выбрать самостоятельно) + топ 1 устройство по максимальному количеству записей+ 2 канала с минимальным количеством записей. Для отфильтрованного набора данных создать сводную таблицу: канал, устройство и минимальная длительность сессии.`**"
      ]
    },
    {
      "cell_type": "markdown",
      "metadata": {},
      "source": [
        "Произведен расчет длительности сессии. Выбран диапазон фильтрации, данные отфильтрованы. Найдены топовое устровство и 2 самых непопулярных рекламных канала. Создана сводная таблица по условиям задания."
      ]
    },
    {
      "cell_type": "code",
      "execution_count": 95,
      "metadata": {},
      "outputs": [
        {
          "data": {
            "text/html": [
              "<div>\n",
              "<style scoped>\n",
              "    .dataframe tbody tr th:only-of-type {\n",
              "        vertical-align: middle;\n",
              "    }\n",
              "\n",
              "    .dataframe tbody tr th {\n",
              "        vertical-align: top;\n",
              "    }\n",
              "\n",
              "    .dataframe thead th {\n",
              "        text-align: right;\n",
              "    }\n",
              "</style>\n",
              "<table border=\"1\" class=\"dataframe\">\n",
              "  <thead>\n",
              "    <tr style=\"text-align: right;\">\n",
              "      <th>device</th>\n",
              "      <th>channel</th>\n",
              "      <th>iphone</th>\n",
              "    </tr>\n",
              "  </thead>\n",
              "  <tbody>\n",
              "    <tr>\n",
              "      <th>0</th>\n",
              "      <td>FaceBoom</td>\n",
              "      <td>29.0</td>\n",
              "    </tr>\n",
              "    <tr>\n",
              "      <th>1</th>\n",
              "      <td>MediaTornado</td>\n",
              "      <td>30.0</td>\n",
              "    </tr>\n",
              "  </tbody>\n",
              "</table>\n",
              "</div>"
            ],
            "text/plain": [
              "device       channel  iphone\n",
              "0           FaceBoom    29.0\n",
              "1       MediaTornado    30.0"
            ]
          },
          "execution_count": 95,
          "metadata": {},
          "output_type": "execute_result"
        }
      ],
      "source": [
        "df['duration_minute'] = (df['session_end'] - df['session_start']).dt.total_seconds() / 60\n",
        "\n",
        "num1 = 28\n",
        "num2 = 76\n",
        "filtered_df = df[(df['duration_minute'] > num1) & (df['duration_minute'] < num2)]\n",
        "\n",
        "top_device = filtered_df['device'].value_counts().idxmax()\n",
        "channel_counts = filtered_df['channel'].value_counts()\n",
        "least_2_channels = channel_counts.sort_values(ascending=True).index[:2]\n",
        "\n",
        "final_filtered_df = filtered_df[\n",
        "    (filtered_df['device'] == top_device) &\n",
        "    (filtered_df['channel'].isin(least_2_channels))\n",
        "]\n",
        "\n",
        "final_filtered_df.pivot_table(index='channel', columns='device', values='duration_minute', aggfunc='min').reset_index()"
      ]
    },
    {
      "cell_type": "markdown",
      "metadata": {},
      "source": [
        "Вывод:\n",
        "\n",
        "В двух каналах с минимальным количеством записей длительность сессии на топовом устройстве (iPhone) практически одинаковое."
      ]
    },
    {
      "cell_type": "markdown",
      "metadata": {},
      "source": [
        "### Задание №25\n",
        " \n",
        " **`Добавить столбец - “Длительность сессии” (расчетный). Создать столбец “Категория длительности” (с помощью категоризации). Выделить минимум 3 категории (низкая, высокая, средняя), фильтрацию для уровня длительности выбрать самостоятельно, аргументировать выбор. Отфильтровать набор данных. Выбрать только высокую и низкую длительность сессии + 2 самых не популярных канала (по количеству записей). Создать сводную таблицу: средняя, медианная длительность сессии по каналу и устройству.`**"
      ]
    },
    {
      "cell_type": "markdown",
      "metadata": {},
      "source": [
        "Рассчитывается длительность сессии, создается столбец \"категория длительности\" аналогично предыдущим заданиям. Из набора данных вычленяются те записи, которые соответсвуют низкой и высокой категории длительности. Аналогично прошлому заданию находятся 2 самых непопулярных рекламных канала. Данные фильтруются, создается сводная таблица по условиям задания."
      ]
    },
    {
      "cell_type": "code",
      "execution_count": 96,
      "metadata": {},
      "outputs": [
        {
          "data": {
            "text/html": [
              "<div>\n",
              "<style scoped>\n",
              "    .dataframe tbody tr th:only-of-type {\n",
              "        vertical-align: middle;\n",
              "    }\n",
              "\n",
              "    .dataframe tbody tr th {\n",
              "        vertical-align: top;\n",
              "    }\n",
              "\n",
              "    .dataframe thead tr th {\n",
              "        text-align: left;\n",
              "    }\n",
              "</style>\n",
              "<table border=\"1\" class=\"dataframe\">\n",
              "  <thead>\n",
              "    <tr>\n",
              "      <th></th>\n",
              "      <th>channel</th>\n",
              "      <th>device</th>\n",
              "      <th>mean</th>\n",
              "      <th>median</th>\n",
              "    </tr>\n",
              "    <tr>\n",
              "      <th></th>\n",
              "      <th></th>\n",
              "      <th></th>\n",
              "      <th>duration_minute</th>\n",
              "      <th>duration_minute</th>\n",
              "    </tr>\n",
              "  </thead>\n",
              "  <tbody>\n",
              "    <tr>\n",
              "      <th>0</th>\n",
              "      <td>MediaTornado</td>\n",
              "      <td>android</td>\n",
              "      <td>15.750000</td>\n",
              "      <td>10.0</td>\n",
              "    </tr>\n",
              "    <tr>\n",
              "      <th>1</th>\n",
              "      <td>MediaTornado</td>\n",
              "      <td>iphone</td>\n",
              "      <td>4.923077</td>\n",
              "      <td>3.0</td>\n",
              "    </tr>\n",
              "    <tr>\n",
              "      <th>2</th>\n",
              "      <td>MediaTornado</td>\n",
              "      <td>mac</td>\n",
              "      <td>9.250000</td>\n",
              "      <td>9.5</td>\n",
              "    </tr>\n",
              "    <tr>\n",
              "      <th>3</th>\n",
              "      <td>MediaTornado</td>\n",
              "      <td>pc</td>\n",
              "      <td>9.000000</td>\n",
              "      <td>9.0</td>\n",
              "    </tr>\n",
              "    <tr>\n",
              "      <th>4</th>\n",
              "      <td>TipTop</td>\n",
              "      <td>android</td>\n",
              "      <td>24.357143</td>\n",
              "      <td>14.0</td>\n",
              "    </tr>\n",
              "    <tr>\n",
              "      <th>5</th>\n",
              "      <td>TipTop</td>\n",
              "      <td>iphone</td>\n",
              "      <td>19.622222</td>\n",
              "      <td>6.0</td>\n",
              "    </tr>\n",
              "    <tr>\n",
              "      <th>6</th>\n",
              "      <td>TipTop</td>\n",
              "      <td>mac</td>\n",
              "      <td>25.444444</td>\n",
              "      <td>12.0</td>\n",
              "    </tr>\n",
              "    <tr>\n",
              "      <th>7</th>\n",
              "      <td>TipTop</td>\n",
              "      <td>pc</td>\n",
              "      <td>32.333333</td>\n",
              "      <td>10.5</td>\n",
              "    </tr>\n",
              "  </tbody>\n",
              "</table>\n",
              "</div>"
            ],
            "text/plain": [
              "        channel   device            mean          median\n",
              "                         duration_minute duration_minute\n",
              "0  MediaTornado  android       15.750000            10.0\n",
              "1  MediaTornado   iphone        4.923077             3.0\n",
              "2  MediaTornado      mac        9.250000             9.5\n",
              "3  MediaTornado       pc        9.000000             9.0\n",
              "4        TipTop  android       24.357143            14.0\n",
              "5        TipTop   iphone       19.622222             6.0\n",
              "6        TipTop      mac       25.444444            12.0\n",
              "7        TipTop       pc       32.333333            10.5"
            ]
          },
          "execution_count": 96,
          "metadata": {},
          "output_type": "execute_result"
        }
      ],
      "source": [
        "df['duration_minute'] = (df['session_end'] - df['session_start']).dt.total_seconds() / 60\n",
        "\n",
        "bins = [0, 20, 60, float('inf')]\n",
        "labels = ['низкая', 'средняя', 'высокая']\n",
        "df['duration_category'] = pd.cut(df['duration_minute'], bins=bins, labels=labels, include_lowest=True)\n",
        "\n",
        "filtered_df = df[df['duration_category'].isin(['низкая', 'высокая'])]\n",
        "channel_counts = filtered_df['channel'].value_counts()\n",
        "least_2_channels = channel_counts.sort_values(ascending=True).index[:2]\n",
        "\n",
        "final_filtered_df = filtered_df[filtered_df['channel'].isin(least_2_channels)]\n",
        "\n",
        "final_filtered_df.pivot_table(\n",
        "    index=['channel', 'device'],\n",
        "    values='duration_minute',\n",
        "    aggfunc=['mean', 'median']\n",
        ").reset_index()"
      ]
    },
    {
      "cell_type": "markdown",
      "metadata": {},
      "source": [
        "Выводы:\n",
        "1) MediaTornado.\n",
        "\n",
        "Наиболее долгие сессии у пользователей на Android (средне и медиана — значительно выше, чем у других устройств). Пользователи iPhone показывают наименьшую продолжительность как по среднему, так и по медиане, что может указывать на более короткое время сессии на iPhone. Продолжительность на Mac и PC примерно совпадает, немного выше у Mac.\n",
        "\n",
        "2) TipTop.\n",
        "\n",
        "Наиболее продолжительные сессии у пользователей на PC. Устройства Mac и Android показывают схожие средние значения, но медиана у Mac чуть выше, что говорит о большей стабильности или большем числе более длинных сессий. Пользователи iPhone демонстрируют меньшую продолжительность, особенно по медиане (6 мин), что отличается от средней — вероятно, присутствует несколько очень длинных сессий, повышающих среднее значение."
      ]
    }
  ],
  "metadata": {
    "colab": {
      "provenance": []
    },
    "kernelspec": {
      "display_name": "Python 3",
      "name": "python3"
    },
    "language_info": {
      "codemirror_mode": {
        "name": "ipython",
        "version": 3
      },
      "file_extension": ".py",
      "mimetype": "text/x-python",
      "name": "python",
      "nbconvert_exporter": "python",
      "pygments_lexer": "ipython3",
      "version": "3.12.6"
    }
  },
  "nbformat": 4,
  "nbformat_minor": 0
}
